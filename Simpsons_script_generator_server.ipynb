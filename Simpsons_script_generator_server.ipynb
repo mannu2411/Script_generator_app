{
  "nbformat": 4,
  "nbformat_minor": 0,
  "metadata": {
    "kernelspec": {
      "display_name": "Python 3",
      "language": "python",
      "name": "python3"
    },
    "language_info": {
      "codemirror_mode": {
        "name": "ipython",
        "version": 3
      },
      "file_extension": ".py",
      "mimetype": "text/x-python",
      "name": "python",
      "nbconvert_exporter": "python",
      "pygments_lexer": "ipython3",
      "version": "3.6.3"
    },
    "colab": {
      "name": "Simpsons_script_generator.ipynb",
      "provenance": [],
      "collapsed_sections": []
    },
    "accelerator": "GPU"
  },
  "cells": [
    {
      "cell_type": "markdown",
      "metadata": {
        "id": "T0K-aJuwt1Zf"
      },
      "source": [
        "# TV Script Generation\n",
        "In this project, you'll generate your own [Simpsons](https://en.wikipedia.org/wiki/The_Simpsons) TV scripts using RNNs.  You'll be using part of the [Simpsons dataset](https://www.kaggle.com/wcukierski/the-simpsons-by-the-data) of scripts from 27 seasons.  The Neural Network you'll build will generate a new TV script for a scene at [Moe's Tavern](https://simpsonswiki.com/wiki/Moe's_Tavern).\n",
        "## Get the Data\n",
        "The data is already provided for you.  You'll be using a subset of the original dataset.  It consists of only the scenes in Moe's Tavern.  This doesn't include other versions of the tavern, like \"Moe's Cavern\", \"Flaming Moe's\", \"Uncle Moe's Family Feed-Bag\", etc.."
      ]
    },
    {
      "cell_type": "code",
      "metadata": {
        "id": "HM83ZYmZuHG3",
        "colab": {
          "base_uri": "https://localhost:8080/"
        },
        "outputId": "7c02b193-550d-4c02-98c2-2ae2a53df7de"
      },
      "source": [
        "from google.colab import drive\n",
        "drive.mount('/content/drive')"
      ],
      "execution_count": null,
      "outputs": [
        {
          "output_type": "stream",
          "text": [
            "Mounted at /content/drive\n"
          ],
          "name": "stdout"
        }
      ]
    },
    {
      "cell_type": "code",
      "metadata": {
        "id": "jWYnwUs5vo4A",
        "colab": {
          "base_uri": "https://localhost:8080/"
        },
        "outputId": "5ec9bee7-0460-4680-f917-ef0c3bb01ea7"
      },
      "source": [
        "cd \"/content/drive/MyDrive/Colab Notebooks/RNN-Movie-Script-Generator-master\""
      ],
      "execution_count": null,
      "outputs": [
        {
          "output_type": "stream",
          "text": [
            "/content/drive/MyDrive/Colab Notebooks/RNN-Movie-Script-Generator-master\n"
          ],
          "name": "stdout"
        }
      ]
    },
    {
      "cell_type": "code",
      "metadata": {
        "id": "Wyc9QcnDkIwa",
        "colab": {
          "base_uri": "https://localhost:8080/",
          "height": 1000
        },
        "outputId": "4d6e8ac8-b415-4f71-9956-e2ceee78c798"
      },
      "source": [
        "#tensorflow_version 2.x\n",
        "!pip uninstall -y tensorflow\n",
        "!pip install tensorflow==1.14\n",
        "!pip install tensorflow-gpu==1.14"
      ],
      "execution_count": null,
      "outputs": [
        {
          "output_type": "stream",
          "text": [
            "Uninstalling tensorflow-2.3.0:\n",
            "  Successfully uninstalled tensorflow-2.3.0\n",
            "Collecting tensorflow==1.14\n",
            "\u001b[?25l  Downloading https://files.pythonhosted.org/packages/de/f0/96fb2e0412ae9692dbf400e5b04432885f677ad6241c088ccc5fe7724d69/tensorflow-1.14.0-cp36-cp36m-manylinux1_x86_64.whl (109.2MB)\n",
            "\u001b[K     |████████████████████████████████| 109.2MB 38kB/s \n",
            "\u001b[?25hRequirement already satisfied: absl-py>=0.7.0 in /usr/local/lib/python3.6/dist-packages (from tensorflow==1.14) (0.10.0)\n",
            "Requirement already satisfied: numpy<2.0,>=1.14.5 in /usr/local/lib/python3.6/dist-packages (from tensorflow==1.14) (1.18.5)\n",
            "Requirement already satisfied: astor>=0.6.0 in /usr/local/lib/python3.6/dist-packages (from tensorflow==1.14) (0.8.1)\n",
            "Collecting keras-applications>=1.0.6\n",
            "\u001b[?25l  Downloading https://files.pythonhosted.org/packages/71/e3/19762fdfc62877ae9102edf6342d71b28fbfd9dea3d2f96a882ce099b03f/Keras_Applications-1.0.8-py3-none-any.whl (50kB)\n",
            "\u001b[K     |████████████████████████████████| 51kB 7.8MB/s \n",
            "\u001b[?25hRequirement already satisfied: wheel>=0.26 in /usr/local/lib/python3.6/dist-packages (from tensorflow==1.14) (0.35.1)\n",
            "Requirement already satisfied: gast>=0.2.0 in /usr/local/lib/python3.6/dist-packages (from tensorflow==1.14) (0.3.3)\n",
            "Collecting tensorboard<1.15.0,>=1.14.0\n",
            "\u001b[?25l  Downloading https://files.pythonhosted.org/packages/91/2d/2ed263449a078cd9c8a9ba50ebd50123adf1f8cfbea1492f9084169b89d9/tensorboard-1.14.0-py3-none-any.whl (3.1MB)\n",
            "\u001b[K     |████████████████████████████████| 3.2MB 31.4MB/s \n",
            "\u001b[?25hRequirement already satisfied: wrapt>=1.11.1 in /usr/local/lib/python3.6/dist-packages (from tensorflow==1.14) (1.12.1)\n",
            "Requirement already satisfied: keras-preprocessing>=1.0.5 in /usr/local/lib/python3.6/dist-packages (from tensorflow==1.14) (1.1.2)\n",
            "Requirement already satisfied: grpcio>=1.8.6 in /usr/local/lib/python3.6/dist-packages (from tensorflow==1.14) (1.33.2)\n",
            "Requirement already satisfied: protobuf>=3.6.1 in /usr/local/lib/python3.6/dist-packages (from tensorflow==1.14) (3.12.4)\n",
            "Requirement already satisfied: google-pasta>=0.1.6 in /usr/local/lib/python3.6/dist-packages (from tensorflow==1.14) (0.2.0)\n",
            "Collecting tensorflow-estimator<1.15.0rc0,>=1.14.0rc0\n",
            "\u001b[?25l  Downloading https://files.pythonhosted.org/packages/3c/d5/21860a5b11caf0678fbc8319341b0ae21a07156911132e0e71bffed0510d/tensorflow_estimator-1.14.0-py2.py3-none-any.whl (488kB)\n",
            "\u001b[K     |████████████████████████████████| 491kB 45.6MB/s \n",
            "\u001b[?25hRequirement already satisfied: termcolor>=1.1.0 in /usr/local/lib/python3.6/dist-packages (from tensorflow==1.14) (1.1.0)\n",
            "Requirement already satisfied: six>=1.10.0 in /usr/local/lib/python3.6/dist-packages (from tensorflow==1.14) (1.15.0)\n",
            "Requirement already satisfied: h5py in /usr/local/lib/python3.6/dist-packages (from keras-applications>=1.0.6->tensorflow==1.14) (2.10.0)\n",
            "Requirement already satisfied: setuptools>=41.0.0 in /usr/local/lib/python3.6/dist-packages (from tensorboard<1.15.0,>=1.14.0->tensorflow==1.14) (50.3.2)\n",
            "Requirement already satisfied: markdown>=2.6.8 in /usr/local/lib/python3.6/dist-packages (from tensorboard<1.15.0,>=1.14.0->tensorflow==1.14) (3.3.3)\n",
            "Requirement already satisfied: werkzeug>=0.11.15 in /usr/local/lib/python3.6/dist-packages (from tensorboard<1.15.0,>=1.14.0->tensorflow==1.14) (1.0.1)\n",
            "Requirement already satisfied: importlib-metadata; python_version < \"3.8\" in /usr/local/lib/python3.6/dist-packages (from markdown>=2.6.8->tensorboard<1.15.0,>=1.14.0->tensorflow==1.14) (2.0.0)\n",
            "Requirement already satisfied: zipp>=0.5 in /usr/local/lib/python3.6/dist-packages (from importlib-metadata; python_version < \"3.8\"->markdown>=2.6.8->tensorboard<1.15.0,>=1.14.0->tensorflow==1.14) (3.4.0)\n",
            "Installing collected packages: keras-applications, tensorboard, tensorflow-estimator, tensorflow\n",
            "  Found existing installation: tensorboard 2.3.0\n",
            "    Uninstalling tensorboard-2.3.0:\n",
            "      Successfully uninstalled tensorboard-2.3.0\n",
            "  Found existing installation: tensorflow-estimator 2.3.0\n",
            "    Uninstalling tensorflow-estimator-2.3.0:\n",
            "      Successfully uninstalled tensorflow-estimator-2.3.0\n",
            "Successfully installed keras-applications-1.0.8 tensorboard-1.14.0 tensorflow-1.14.0 tensorflow-estimator-1.14.0\n"
          ],
          "name": "stdout"
        },
        {
          "output_type": "display_data",
          "data": {
            "application/vnd.colab-display-data+json": {
              "pip_warning": {
                "packages": [
                  "tensorboard",
                  "tensorflow"
                ]
              }
            }
          },
          "metadata": {
            "tags": []
          }
        },
        {
          "output_type": "stream",
          "text": [
            "Collecting tensorflow-gpu==1.14\n",
            "\u001b[?25l  Downloading https://files.pythonhosted.org/packages/76/04/43153bfdfcf6c9a4c38ecdb971ca9a75b9a791bb69a764d652c359aca504/tensorflow_gpu-1.14.0-cp36-cp36m-manylinux1_x86_64.whl (377.0MB)\n",
            "\u001b[K     |████████████████████████████████| 377.0MB 46kB/s \n",
            "\u001b[?25hRequirement already satisfied: google-pasta>=0.1.6 in /usr/local/lib/python3.6/dist-packages (from tensorflow-gpu==1.14) (0.2.0)\n",
            "Requirement already satisfied: wrapt>=1.11.1 in /usr/local/lib/python3.6/dist-packages (from tensorflow-gpu==1.14) (1.12.1)\n",
            "Requirement already satisfied: astor>=0.6.0 in /usr/local/lib/python3.6/dist-packages (from tensorflow-gpu==1.14) (0.8.1)\n",
            "Requirement already satisfied: six>=1.10.0 in /usr/local/lib/python3.6/dist-packages (from tensorflow-gpu==1.14) (1.15.0)\n",
            "Requirement already satisfied: gast>=0.2.0 in /usr/local/lib/python3.6/dist-packages (from tensorflow-gpu==1.14) (0.3.3)\n",
            "Requirement already satisfied: protobuf>=3.6.1 in /usr/local/lib/python3.6/dist-packages (from tensorflow-gpu==1.14) (3.12.4)\n",
            "Requirement already satisfied: termcolor>=1.1.0 in /usr/local/lib/python3.6/dist-packages (from tensorflow-gpu==1.14) (1.1.0)\n",
            "Requirement already satisfied: grpcio>=1.8.6 in /usr/local/lib/python3.6/dist-packages (from tensorflow-gpu==1.14) (1.33.2)\n",
            "Requirement already satisfied: numpy<2.0,>=1.14.5 in /usr/local/lib/python3.6/dist-packages (from tensorflow-gpu==1.14) (1.18.5)\n",
            "Requirement already satisfied: tensorboard<1.15.0,>=1.14.0 in /usr/local/lib/python3.6/dist-packages (from tensorflow-gpu==1.14) (1.14.0)\n",
            "Requirement already satisfied: keras-preprocessing>=1.0.5 in /usr/local/lib/python3.6/dist-packages (from tensorflow-gpu==1.14) (1.1.2)\n",
            "Requirement already satisfied: keras-applications>=1.0.6 in /usr/local/lib/python3.6/dist-packages (from tensorflow-gpu==1.14) (1.0.8)\n",
            "Requirement already satisfied: tensorflow-estimator<1.15.0rc0,>=1.14.0rc0 in /usr/local/lib/python3.6/dist-packages (from tensorflow-gpu==1.14) (1.14.0)\n",
            "Requirement already satisfied: wheel>=0.26 in /usr/local/lib/python3.6/dist-packages (from tensorflow-gpu==1.14) (0.35.1)\n",
            "Requirement already satisfied: absl-py>=0.7.0 in /usr/local/lib/python3.6/dist-packages (from tensorflow-gpu==1.14) (0.10.0)\n",
            "Requirement already satisfied: setuptools in /usr/local/lib/python3.6/dist-packages (from protobuf>=3.6.1->tensorflow-gpu==1.14) (50.3.2)\n",
            "Requirement already satisfied: markdown>=2.6.8 in /usr/local/lib/python3.6/dist-packages (from tensorboard<1.15.0,>=1.14.0->tensorflow-gpu==1.14) (3.3.3)\n",
            "Requirement already satisfied: werkzeug>=0.11.15 in /usr/local/lib/python3.6/dist-packages (from tensorboard<1.15.0,>=1.14.0->tensorflow-gpu==1.14) (1.0.1)\n",
            "Requirement already satisfied: h5py in /usr/local/lib/python3.6/dist-packages (from keras-applications>=1.0.6->tensorflow-gpu==1.14) (2.10.0)\n",
            "Requirement already satisfied: importlib-metadata; python_version < \"3.8\" in /usr/local/lib/python3.6/dist-packages (from markdown>=2.6.8->tensorboard<1.15.0,>=1.14.0->tensorflow-gpu==1.14) (2.0.0)\n",
            "Requirement already satisfied: zipp>=0.5 in /usr/local/lib/python3.6/dist-packages (from importlib-metadata; python_version < \"3.8\"->markdown>=2.6.8->tensorboard<1.15.0,>=1.14.0->tensorflow-gpu==1.14) (3.4.0)\n",
            "Installing collected packages: tensorflow-gpu\n",
            "Successfully installed tensorflow-gpu-1.14.0\n"
          ],
          "name": "stdout"
        },
        {
          "output_type": "display_data",
          "data": {
            "application/vnd.colab-display-data+json": {
              "pip_warning": {
                "packages": [
                  "tensorflow"
                ]
              }
            }
          },
          "metadata": {
            "tags": []
          }
        }
      ]
    },
    {
      "cell_type": "code",
      "metadata": {
        "id": "1Mb-ToGHBH7p",
        "colab": {
          "base_uri": "https://localhost:8080/",
          "height": 132
        },
        "outputId": "fce8522a-40f6-4459-cfb7-e67df939659a"
      },
      "source": [
        "colab notebook --NotebookApp.iopub_data_rate_limit=1.0e10 "
      ],
      "execution_count": null,
      "outputs": [
        {
          "output_type": "error",
          "ename": "SyntaxError",
          "evalue": "ignored",
          "traceback": [
            "\u001b[0;36m  File \u001b[0;32m\"<ipython-input-53-d2d287075c79>\"\u001b[0;36m, line \u001b[0;32m1\u001b[0m\n\u001b[0;31m    colab notebook --NotebookApp.iopub_data_rate_limit=1.0e10\u001b[0m\n\u001b[0m                 ^\u001b[0m\n\u001b[0;31mSyntaxError\u001b[0m\u001b[0;31m:\u001b[0m invalid syntax\n"
          ]
        }
      ]
    },
    {
      "cell_type": "code",
      "metadata": {
        "id": "mnlVG9C8yieh",
        "colab": {
          "base_uri": "https://localhost:8080/"
        },
        "outputId": "bba9600c-a28a-4d5c-e140-dc1e7b8a060a"
      },
      "source": [
        "import os\n",
        "import pickle\n",
        "\n",
        "\n",
        "def load_data(path):\n",
        "    \"\"\"\n",
        "    Load Dataset from File\n",
        "    \"\"\"\n",
        "    input_file = os.path.join(path)\n",
        "    with open(input_file, \"r\") as f:\n",
        "        data = f.read()\n",
        "\n",
        "    return data\n",
        "\n",
        "\n",
        "def preprocess_and_save_data(dataset_path, token_lookup, create_lookup_tables):\n",
        "    \"\"\"\n",
        "    Preprocess Text Data\n",
        "    \"\"\"\n",
        "    text = load_data(dataset_path)\n",
        "    \n",
        "    # Ignore notice, since we don't use it for analysing the data\n",
        "    text = text[81:]\n",
        "\n",
        "    token_dict = token_lookup()\n",
        "    for key, token in token_dict.items():\n",
        "        text = text.replace(key, ' {} '.format(token))\n",
        "\n",
        "    text = text.lower()\n",
        "    text = text.split()\n",
        "\n",
        "    vocab_to_int, int_to_vocab = create_lookup_tables(text)\n",
        "    int_text = [vocab_to_int[word] for word in text]\n",
        "    pickle.dump((int_text, vocab_to_int, int_to_vocab, token_dict), open('preprocess.p', 'wb'))\n",
        "\n",
        "\n",
        "def load_preprocess():\n",
        "    \"\"\"\n",
        "    Load the Preprocessed Training data and return them in batches of <batch_size> or less\n",
        "    \"\"\"\n",
        "    return pickle.load(open('preprocess.p', mode='rb'))\n",
        "\n",
        "\n",
        "def save_params(params):\n",
        "    \"\"\"\n",
        "    Save parameters to file\n",
        "    \"\"\"\n",
        "    pickle.dump(params, open('params.p', 'wb'))\n",
        "\n",
        "\n",
        "def load_params():\n",
        "    \"\"\"\n",
        "    Load parameters from file\n",
        "    \"\"\"\n",
        "    return pickle.load(open('params.p', mode='rb'))\n",
        "\n",
        "data_dir =\"/content/drive/MyDrive/Colab Notebooks/RNN-Movie-Script-Generator-master/dataset.txt\"\n",
        "text =load_data(data_dir)\n",
        "# Ignore notice, since we don't use it for analysing the data\n",
        "text = text[81:]\n",
        "print(text)\n"
      ],
      "execution_count": null,
      "outputs": [
        {
          "output_type": "stream",
          "text": [
            "IOPub data rate exceeded.\n",
            "The notebook server will temporarily stop sending output\n",
            "to the client in order to avoid crashing it.\n",
            "To change this limit, set the config variable\n",
            "`--NotebookApp.iopub_data_rate_limit`.\n",
            "\n",
            "Current values:\n",
            "NotebookApp.iopub_data_rate_limit=1000000.0 (bytes/sec)\n",
            "NotebookApp.rate_limit_window=3.0 (secs)\n",
            "\n"
          ],
          "name": "stderr"
        }
      ]
    },
    {
      "cell_type": "code",
      "metadata": {
        "id": "3yOSItfOt1Zg"
      },
      "source": [
        "\"\"\"\n",
        "DON'T MODIFY ANYTHING IN THIS CELL\n",
        "\"\"\"\n",
        "\n",
        "data_dir = \"moes_tavern_lines.txt\"\n",
        "text =load_data(data_dir)\n",
        "# Ignore notice, since we don't use it for analysing the data\n",
        "text = text[81:]\n",
        "print(text)"
      ],
      "execution_count": null,
      "outputs": []
    },
    {
      "cell_type": "markdown",
      "metadata": {
        "id": "Et3cIbJwt1Zg"
      },
      "source": [
        "## Explore the Data\n",
        "Play around with `view_sentence_range` to view different parts of the data."
      ]
    },
    {
      "cell_type": "code",
      "metadata": {
        "id": "VvxgIpWst1Zg",
        "colab": {
          "base_uri": "https://localhost:8080/"
        },
        "outputId": "d5159a8d-f13e-45fd-c283-6fc716310da8"
      },
      "source": [
        "view_sentence_range = (0, 10)\n",
        "\n",
        "\"\"\"\n",
        "DON'T MODIFY ANYTHING IN THIS CELL\n",
        "\"\"\"\n",
        "import numpy as np\n",
        "\n",
        "print('Dataset Stats')\n",
        "print('Roughly the number of unique words: {}'.format(len({word: None for word in text.split()})))\n",
        "scenes = text.split('\\n\\n')\n",
        "print('Number of scenes: {}'.format(len(scenes)))\n",
        "sentence_count_scene = [scene.count('\\n') for scene in scenes]\n",
        "print('Average number of sentences in each scene: {}'.format(np.average(sentence_count_scene)))\n",
        "\n",
        "sentences = [sentence for scene in scenes for sentence in scene.split('\\n')]\n",
        "print('Number of lines: {}'.format(len(sentences)))\n",
        "word_count_sentence = [len(sentence.split()) for sentence in sentences]\n",
        "print('Average number of words in each line: {}'.format(np.average(word_count_sentence)))\n",
        "\n",
        "print()\n",
        "print('The sentences {} to {}:'.format(*view_sentence_range))\n",
        "print('\\n'.join(text.split('\\n')[view_sentence_range[0]:view_sentence_range[1]]))"
      ],
      "execution_count": null,
      "outputs": [
        {
          "output_type": "stream",
          "text": [
            "Dataset Stats\n",
            "Roughly the number of unique words: 136109\n",
            "Number of scenes: 568\n",
            "Average number of sentences in each scene: 278.6021126760563\n",
            "Number of lines: 158814\n",
            "Average number of words in each line: 10.462925182918383\n",
            "\n",
            "The sentences 0 to 10:\n",
            "n:  Ooo, careful, Homer.\n",
            "Homer_Simpson:  There's no time to be careful.\n",
            "Homer_Simpson:  We're late.\n",
            "Springfield_Elementary_School:  Ext. springfield elementary school - establishing - night)\n",
            "Auditorium:  int. auditorium - night)\n",
            "Marge_Simpson:  (HUSHED VOICE) Sorry, Excuse us. Pardon me...\n",
            "Homer_Simpson:  (SIMULTANEOUSLY) Hey, Norman. How's it going? So you got dragged down here, too... heh, heh. How ya doing, Fred? Excuse me, Fred.\n",
            "Homer_Simpson:  Pardon my galoshes. (CHUCKLES)\n",
            "Seymour_Skinner:  (UNREHEARSED) Wasn't that wonderful? And now, \"Santas of Many Lands,\" as presented by the entire second grade class.\n",
            "Marge_Simpson:  Oh... Lisa's class.\n"
          ],
          "name": "stdout"
        }
      ]
    },
    {
      "cell_type": "code",
      "metadata": {
        "id": "bVYH-WSMxFwT"
      },
      "source": [
        "cd \"/content/drive/MyDrive/Colab Notebooks/RNN-Movie-Script-Generator-master\""
      ],
      "execution_count": null,
      "outputs": []
    },
    {
      "cell_type": "code",
      "metadata": {
        "id": "jvS0H9XGzcGa"
      },
      "source": [
        "# # To determine which version you're using:\n",
        "# !pip show tensorflow\n",
        "\n",
        "# # For the current version: \n",
        "# !pip install --upgrade tensorflow\n",
        "\n",
        "# # For a specific version:\n",
        "# !pip install tensorflow==1.14\n",
        "\n",
        "# # For the latest nightly build:\n",
        "# !pip install tf-nightly\n",
        "\n",
        "\n",
        "\n",
        "\n",
        "\n",
        "\n",
        "\n",
        "##!pip install tensorflow-gpu==1.14\n",
        "\n"
      ],
      "execution_count": null,
      "outputs": []
    },
    {
      "cell_type": "code",
      "metadata": {
        "id": "iq_ZYanKT1mP"
      },
      "source": [
        "#tensorflow_version 2.x\n",
        "!pip uninstall -y tensorflow\n",
        "!pip install tensorflow==1.14\n",
        "!pip install tensorflow-gpu==1.14"
      ],
      "execution_count": null,
      "outputs": []
    },
    {
      "cell_type": "code",
      "metadata": {
        "id": "KhACOWIny9mN",
        "colab": {
          "base_uri": "https://localhost:8080/"
        },
        "outputId": "ae24fdc6-0e52-4785-c06d-ff05979ef1a8"
      },
      "source": [
        "import numpy as np\n",
        "import tensorflow as tf\n",
        "from tensorflow.contrib import rnn\n",
        "\n",
        "\n",
        "def _print_success_message():\n",
        "    print('Tests Passed')\n",
        "\n",
        "\n",
        "def test_create_lookup_tables(create_lookup_tables):\n",
        "    with tf.Graph().as_default():\n",
        "        test_text = '''\n",
        "        Moe_Szyslak Moe's Tavern Where the elite meet to drink\n",
        "        Bart_Simpson Eh yeah hello is Mike there Last name Rotch\n",
        "        Moe_Szyslak Hold on I'll check Mike Rotch Mike Rotch Hey has anybody seen Mike Rotch lately\n",
        "        Moe_Szyslak Listen you little puke One of these days I'm gonna catch you and I'm gonna carve my name on your back with an ice pick\n",
        "        Moe_Szyslak Whats the matter Homer You're not your normal effervescent self\n",
        "        Homer_Simpson I got my problems Moe Give me another one\n",
        "        Moe_Szyslak Homer hey you should not drink to forget your problems\n",
        "        Barney_Gumble Yeah you should only drink to enhance your social skills'''\n",
        "\n",
        "        test_text = test_text.lower()\n",
        "        test_text = test_text.split()\n",
        "\n",
        "        vocab_to_int, int_to_vocab = create_lookup_tables(test_text)\n",
        "\n",
        "        # Check types\n",
        "        assert isinstance(vocab_to_int, dict),\\\n",
        "            'vocab_to_int is not a dictionary.'\n",
        "        assert isinstance(int_to_vocab, dict),\\\n",
        "            'int_to_vocab is not a dictionary.'\n",
        "\n",
        "        # Compare lengths of dicts\n",
        "        assert len(vocab_to_int) == len(int_to_vocab),\\\n",
        "            'Length of vocab_to_int and int_to_vocab don\\'t match. ' \\\n",
        "            'vocab_to_int is length {}. int_to_vocab is length {}'.format(len(vocab_to_int), len(int_to_vocab))\n",
        "\n",
        "        # Make sure the dicts have the same words\n",
        "        vocab_to_int_word_set = set(vocab_to_int.keys())\n",
        "        int_to_vocab_word_set = set(int_to_vocab.values())\n",
        "\n",
        "        assert not (vocab_to_int_word_set - int_to_vocab_word_set),\\\n",
        "            'vocab_to_int and int_to_vocab don\\'t have the same words.' \\\n",
        "            '{} found in vocab_to_int, but not in int_to_vocab'.format(vocab_to_int_word_set - int_to_vocab_word_set)\n",
        "        assert not (int_to_vocab_word_set - vocab_to_int_word_set),\\\n",
        "            'vocab_to_int and int_to_vocab don\\'t have the same words.' \\\n",
        "            '{} found in int_to_vocab, but not in vocab_to_int'.format(int_to_vocab_word_set - vocab_to_int_word_set)\n",
        "\n",
        "        # Make sure the dicts have the same word ids\n",
        "        vocab_to_int_word_id_set = set(vocab_to_int.values())\n",
        "        int_to_vocab_word_id_set = set(int_to_vocab.keys())\n",
        "\n",
        "        assert not (vocab_to_int_word_id_set - int_to_vocab_word_id_set),\\\n",
        "            'vocab_to_int and int_to_vocab don\\'t contain the same word ids.' \\\n",
        "            '{} found in vocab_to_int, but not in int_to_vocab'.format(vocab_to_int_word_id_set - int_to_vocab_word_id_set)\n",
        "        assert not (int_to_vocab_word_id_set - vocab_to_int_word_id_set),\\\n",
        "            'vocab_to_int and int_to_vocab don\\'t contain the same word ids.' \\\n",
        "            '{} found in int_to_vocab, but not in vocab_to_int'.format(int_to_vocab_word_id_set - vocab_to_int_word_id_set)\n",
        "\n",
        "        # Make sure the dicts make the same lookup\n",
        "        missmatches = [(word, id, id, int_to_vocab[id]) for word, id in vocab_to_int.items() if int_to_vocab[id] != word]\n",
        "\n",
        "        assert not missmatches,\\\n",
        "            'Found {} missmatche(s). First missmatch: vocab_to_int[{}] = {} and int_to_vocab[{}] = {}'.format(\n",
        "                len(missmatches),\n",
        "                *missmatches[0])\n",
        "\n",
        "        assert len(vocab_to_int) > len(set(test_text))/2,\\\n",
        "            'The length of vocab seems too small.  Found a length of {}'.format(len(vocab_to_int))\n",
        "\n",
        "    _print_success_message()\n",
        "\n",
        "\n",
        "def test_get_batches(get_batches):\n",
        "    with tf.Graph().as_default():\n",
        "        test_batch_size = 128\n",
        "        test_seq_length = 5\n",
        "        test_int_text = list(range(1000*test_seq_length))\n",
        "        batches = get_batches(test_int_text, test_batch_size, test_seq_length)\n",
        "\n",
        "        # Check type\n",
        "        assert isinstance(batches, np.ndarray),\\\n",
        "            'Batches is not a Numpy array'\n",
        "\n",
        "        # Check shape\n",
        "        assert batches.shape == (7, 2, 128, 5),\\\n",
        "            'Batches returned wrong shape.  Found {}'.format(batches.shape)\n",
        "\n",
        "        for x in range(batches.shape[2]):\n",
        "            assert np.array_equal(batches[0,0,x], np.array(range(x * 35, x * 35 + batches.shape[3]))),\\\n",
        "                'Batches returned wrong contents. For example, input sequence {} in the first batch was {}'.format(x, batches[0,0,x])\n",
        "            assert np.array_equal(batches[0,1,x], np.array(range(x * 35 + 1, x * 35 + 1 + batches.shape[3]))),\\\n",
        "                'Batches returned wrong contents. For example, target sequence {} in the first batch was {}'.format(x, batches[0,1,x])\n",
        "\n",
        "\n",
        "        last_seq_target = (test_batch_size-1) * 35 + 31\n",
        "        last_seq = np.array(range(last_seq_target, last_seq_target+ batches.shape[3]))\n",
        "        last_seq[-1] = batches[0,0,0,0]\n",
        "\n",
        "        assert np.array_equal(batches[-1,1,-1], last_seq),\\\n",
        "            'The last target of the last batch should be the first input of the first batch. Found {} but expected {}'.format(batches[-1,1,-1], last_seq)\n",
        "\n",
        "    _print_success_message()\n",
        "\n",
        "\n",
        "def test_tokenize(token_lookup):\n",
        "    with tf.Graph().as_default():\n",
        "        symbols = set(['.', ',', '\"', ';', '!', '?', '(', ')', '--', '\\n'])\n",
        "        token_dict = token_lookup()\n",
        "\n",
        "        # Check type\n",
        "        assert isinstance(token_dict, dict), \\\n",
        "            'Returned type is {}.'.format(type(token_dict))\n",
        "\n",
        "        # Check symbols\n",
        "        missing_symbols = symbols - set(token_dict.keys())\n",
        "        unknown_symbols = set(token_dict.keys()) - symbols\n",
        "\n",
        "        assert not missing_symbols, \\\n",
        "            'Missing symbols: {}'.format(missing_symbols)\n",
        "        assert not unknown_symbols, \\\n",
        "            'Unknown symbols: {}'.format(unknown_symbols)\n",
        "\n",
        "        # Check values type\n",
        "        bad_value_type = [type(val) for val in token_dict.values() if not isinstance(val, str)]\n",
        "\n",
        "        assert not bad_value_type,\\\n",
        "            'Found token as {} type.'.format(bad_value_type[0])\n",
        "\n",
        "        # Check for spaces\n",
        "        key_has_spaces = [k for k in token_dict.keys() if ' ' in k]\n",
        "        val_has_spaces = [val for val in token_dict.values() if ' ' in val]\n",
        "\n",
        "        assert not key_has_spaces,\\\n",
        "            'The key \"{}\" includes spaces. Remove spaces from keys and values'.format(key_has_spaces[0])\n",
        "        assert not val_has_spaces,\\\n",
        "            'The value \"{}\" includes spaces. Remove spaces from keys and values'.format(val_has_spaces[0])\n",
        "\n",
        "        # Check for symbols in values\n",
        "        symbol_val = ()\n",
        "        for symbol in symbols:\n",
        "            for val in token_dict.values():\n",
        "                if symbol in val:\n",
        "                    symbol_val = (symbol, val)\n",
        "\n",
        "        assert not symbol_val,\\\n",
        "            'Don\\'t use a symbol that will be replaced in your tokens. Found the symbol {} in value {}'.format(*symbol_val)\n",
        "\n",
        "    _print_success_message()\n",
        "\n",
        "\n",
        "def test_get_inputs(get_inputs):\n",
        "    with tf.Graph().as_default():\n",
        "        input_data, targets, lr = get_inputs()\n",
        "\n",
        "        # Check type\n",
        "        assert input_data.op.type == 'Placeholder',\\\n",
        "            'Input not a Placeholder.'\n",
        "        assert targets.op.type == 'Placeholder',\\\n",
        "            'Targets not a Placeholder.'\n",
        "        assert lr.op.type == 'Placeholder',\\\n",
        "            'Learning Rate not a Placeholder.'\n",
        "\n",
        "        # Check name\n",
        "        assert input_data.name == 'input:0',\\\n",
        "            'Input has bad name.  Found name {}'.format(input_data.name)\n",
        "\n",
        "        # Check rank\n",
        "        input_rank = 0 if input_data.get_shape() == None else len(input_data.get_shape())\n",
        "        targets_rank = 0 if targets.get_shape() == None else len(targets.get_shape())\n",
        "        lr_rank = 0 if lr.get_shape() == None else len(lr.get_shape())\n",
        "\n",
        "        assert input_rank == 2,\\\n",
        "            'Input has wrong rank.  Rank {} found.'.format(input_rank)\n",
        "        assert targets_rank == 2,\\\n",
        "            'Targets has wrong rank. Rank {} found.'.format(targets_rank)\n",
        "        assert lr_rank == 0,\\\n",
        "            'Learning Rate has wrong rank. Rank {} found'.format(lr_rank)\n",
        "\n",
        "    _print_success_message()\n",
        "\n",
        "\n",
        "def test_get_init_cell(get_init_cell):\n",
        "    with tf.Graph().as_default():\n",
        "        test_batch_size_ph = tf.placeholder(tf.int32, [])\n",
        "        test_rnn_size = 256\n",
        "\n",
        "        cell, init_state = get_init_cell(test_batch_size_ph, test_rnn_size)\n",
        "\n",
        "        # Check type\n",
        "        assert isinstance(cell, tf.contrib.rnn.MultiRNNCell),\\\n",
        "            'Cell is wrong type.  Found {} type'.format(type(cell))\n",
        "\n",
        "        # Check for name attribute\n",
        "        assert hasattr(init_state, 'name'),\\\n",
        "            'Initial state doesn\\'t have the \"name\" attribute.  Try using `tf.identity` to set the name.'\n",
        "\n",
        "        # Check name\n",
        "        assert init_state.name == 'initial_state:0',\\\n",
        "            'Initial state doesn\\'t have the correct name. Found the name {}'.format(init_state.name)\n",
        "\n",
        "    _print_success_message()\n",
        "\n",
        "\n",
        "def test_get_embed(get_embed):\n",
        "    with tf.Graph().as_default():\n",
        "        embed_shape = [50, 5, 256]\n",
        "        test_input_data = tf.placeholder(tf.int32, embed_shape[:2])\n",
        "        test_vocab_size = 27\n",
        "        test_embed_dim = embed_shape[2]\n",
        "\n",
        "        embed = get_embed(test_input_data, test_vocab_size, test_embed_dim)\n",
        "\n",
        "        # Check shape\n",
        "        assert embed.shape == embed_shape,\\\n",
        "            'Wrong shape.  Found shape {}'.format(embed.shape)\n",
        "\n",
        "    _print_success_message()\n",
        "\n",
        "\n",
        "def test_build_rnn(build_rnn):\n",
        "    with tf.Graph().as_default():\n",
        "        test_rnn_size = 256\n",
        "        test_rnn_layer_size = 2\n",
        "        test_cell = rnn.MultiRNNCell([rnn.BasicLSTMCell(test_rnn_size) for _ in range(test_rnn_layer_size)])\n",
        "\n",
        "        test_inputs = tf.placeholder(tf.float32, [None, None, test_rnn_size])\n",
        "        outputs, final_state = build_rnn(test_cell, test_inputs)\n",
        "\n",
        "        # Check name\n",
        "        assert hasattr(final_state, 'name'),\\\n",
        "            'Final state doesn\\'t have the \"name\" attribute.  Try using `tf.identity` to set the name.'\n",
        "        assert final_state.name == 'final_state:0',\\\n",
        "            'Final state doesn\\'t have the correct name. Found the name {}'.format(final_state.name)\n",
        "\n",
        "        # Check shape\n",
        "        assert outputs.get_shape().as_list() == [None, None, test_rnn_size],\\\n",
        "            'Outputs has wrong shape.  Found shape {}'.format(outputs.get_shape())\n",
        "        assert final_state.get_shape().as_list() == [test_rnn_layer_size, 2, None, test_rnn_size],\\\n",
        "            'Final state wrong shape.  Found shape {}'.format(final_state.get_shape())\n",
        "\n",
        "    _print_success_message()\n",
        "\n",
        "\n",
        "def test_build_nn(build_nn):\n",
        "    with tf.Graph().as_default():\n",
        "        test_input_data_shape = [128, 5]\n",
        "        test_input_data = tf.placeholder(tf.int32, test_input_data_shape)\n",
        "        test_rnn_size = 256\n",
        "        test_embed_dim = 300\n",
        "        test_rnn_layer_size = 2\n",
        "        test_vocab_size = 27\n",
        "        test_cell = rnn.MultiRNNCell([rnn.BasicLSTMCell(test_rnn_size) for _ in range(test_rnn_layer_size)])\n",
        "\n",
        "        logits, final_state = build_nn(test_cell, test_rnn_size, test_input_data, test_vocab_size, test_embed_dim)\n",
        "\n",
        "        # Check name\n",
        "        assert hasattr(final_state, 'name'), \\\n",
        "            'Final state doesn\\'t have the \"name\" attribute.  Are you using build_rnn?'\n",
        "        assert final_state.name == 'final_state:0', \\\n",
        "            'Final state doesn\\'t have the correct name. Found the name {}. Are you using build_rnn?'.format(final_state.name)\n",
        "\n",
        "        # Check Shape\n",
        "        assert logits.get_shape().as_list() == test_input_data_shape + [test_vocab_size], \\\n",
        "            'Outputs has wrong shape.  Found shape {}'.format(logits.get_shape())\n",
        "        assert final_state.get_shape().as_list() == [test_rnn_layer_size, 2, 128, test_rnn_size], \\\n",
        "            'Final state wrong shape.  Found shape {}'.format(final_state.get_shape())\n",
        "\n",
        "    _print_success_message()\n",
        "\n",
        "\n",
        "def test_get_tensors(get_tensors):\n",
        "    test_graph = tf.Graph()\n",
        "    with test_graph.as_default():\n",
        "        test_input = tf.placeholder(tf.int32, name='input')\n",
        "        test_initial_state = tf.placeholder(tf.int32, name='initial_state')\n",
        "        test_final_state = tf.placeholder(tf.int32, name='final_state')\n",
        "        test_probs = tf.placeholder(tf.float32, name='probs')\n",
        "\n",
        "    input_text, initial_state, final_state, probs = get_tensors(test_graph)\n",
        "\n",
        "    # Check correct tensor\n",
        "    assert input_text == test_input,\\\n",
        "        'Test input is wrong tensor'\n",
        "    assert initial_state == test_initial_state, \\\n",
        "        'Initial state is wrong tensor'\n",
        "    assert final_state == test_final_state, \\\n",
        "        'Final state is wrong tensor'\n",
        "    assert probs == test_probs, \\\n",
        "        'Probabilities is wrong tensor'\n",
        "\n",
        "    _print_success_message()\n",
        "\n",
        "\n",
        "def test_pick_word(pick_word):\n",
        "    with tf.Graph().as_default():\n",
        "        test_probabilities = np.array([0.1, 0.8, 0.05, 0.05])\n",
        "        test_int_to_vocab = {word_i: word for word_i, word in enumerate(['this', 'is', 'a', 'test'])}\n",
        "\n",
        "        pred_word = pick_word(test_probabilities, test_int_to_vocab)\n",
        "\n",
        "        # Check type\n",
        "        assert isinstance(pred_word, str),\\\n",
        "            'Predicted word is wrong type. Found {} type.'.format(type(pred_word))\n",
        "\n",
        "        # Check word is from vocab\n",
        "        assert pred_word in test_int_to_vocab.values(),\\\n",
        "            'Predicted word not found in int_to_vocab.'\n",
        "\n",
        "\n",
        "    _print_success_message()\n",
        "\n"
      ],
      "execution_count": null,
      "outputs": [
        {
          "output_type": "stream",
          "text": [
            "/usr/local/lib/python3.6/dist-packages/tensorflow/python/framework/dtypes.py:516: FutureWarning: Passing (type, 1) or '1type' as a synonym of type is deprecated; in a future version of numpy, it will be understood as (type, (1,)) / '(1,)type'.\n",
            "  _np_qint8 = np.dtype([(\"qint8\", np.int8, 1)])\n",
            "/usr/local/lib/python3.6/dist-packages/tensorflow/python/framework/dtypes.py:517: FutureWarning: Passing (type, 1) or '1type' as a synonym of type is deprecated; in a future version of numpy, it will be understood as (type, (1,)) / '(1,)type'.\n",
            "  _np_quint8 = np.dtype([(\"quint8\", np.uint8, 1)])\n",
            "/usr/local/lib/python3.6/dist-packages/tensorflow/python/framework/dtypes.py:518: FutureWarning: Passing (type, 1) or '1type' as a synonym of type is deprecated; in a future version of numpy, it will be understood as (type, (1,)) / '(1,)type'.\n",
            "  _np_qint16 = np.dtype([(\"qint16\", np.int16, 1)])\n",
            "/usr/local/lib/python3.6/dist-packages/tensorflow/python/framework/dtypes.py:519: FutureWarning: Passing (type, 1) or '1type' as a synonym of type is deprecated; in a future version of numpy, it will be understood as (type, (1,)) / '(1,)type'.\n",
            "  _np_quint16 = np.dtype([(\"quint16\", np.uint16, 1)])\n",
            "/usr/local/lib/python3.6/dist-packages/tensorflow/python/framework/dtypes.py:520: FutureWarning: Passing (type, 1) or '1type' as a synonym of type is deprecated; in a future version of numpy, it will be understood as (type, (1,)) / '(1,)type'.\n",
            "  _np_qint32 = np.dtype([(\"qint32\", np.int32, 1)])\n",
            "/usr/local/lib/python3.6/dist-packages/tensorflow/python/framework/dtypes.py:525: FutureWarning: Passing (type, 1) or '1type' as a synonym of type is deprecated; in a future version of numpy, it will be understood as (type, (1,)) / '(1,)type'.\n",
            "  np_resource = np.dtype([(\"resource\", np.ubyte, 1)])\n",
            "/usr/local/lib/python3.6/dist-packages/tensorboard/compat/tensorflow_stub/dtypes.py:541: FutureWarning: Passing (type, 1) or '1type' as a synonym of type is deprecated; in a future version of numpy, it will be understood as (type, (1,)) / '(1,)type'.\n",
            "  _np_qint8 = np.dtype([(\"qint8\", np.int8, 1)])\n",
            "/usr/local/lib/python3.6/dist-packages/tensorboard/compat/tensorflow_stub/dtypes.py:542: FutureWarning: Passing (type, 1) or '1type' as a synonym of type is deprecated; in a future version of numpy, it will be understood as (type, (1,)) / '(1,)type'.\n",
            "  _np_quint8 = np.dtype([(\"quint8\", np.uint8, 1)])\n",
            "/usr/local/lib/python3.6/dist-packages/tensorboard/compat/tensorflow_stub/dtypes.py:543: FutureWarning: Passing (type, 1) or '1type' as a synonym of type is deprecated; in a future version of numpy, it will be understood as (type, (1,)) / '(1,)type'.\n",
            "  _np_qint16 = np.dtype([(\"qint16\", np.int16, 1)])\n",
            "/usr/local/lib/python3.6/dist-packages/tensorboard/compat/tensorflow_stub/dtypes.py:544: FutureWarning: Passing (type, 1) or '1type' as a synonym of type is deprecated; in a future version of numpy, it will be understood as (type, (1,)) / '(1,)type'.\n",
            "  _np_quint16 = np.dtype([(\"quint16\", np.uint16, 1)])\n",
            "/usr/local/lib/python3.6/dist-packages/tensorboard/compat/tensorflow_stub/dtypes.py:545: FutureWarning: Passing (type, 1) or '1type' as a synonym of type is deprecated; in a future version of numpy, it will be understood as (type, (1,)) / '(1,)type'.\n",
            "  _np_qint32 = np.dtype([(\"qint32\", np.int32, 1)])\n",
            "/usr/local/lib/python3.6/dist-packages/tensorboard/compat/tensorflow_stub/dtypes.py:550: FutureWarning: Passing (type, 1) or '1type' as a synonym of type is deprecated; in a future version of numpy, it will be understood as (type, (1,)) / '(1,)type'.\n",
            "  np_resource = np.dtype([(\"resource\", np.ubyte, 1)])\n"
          ],
          "name": "stderr"
        }
      ]
    },
    {
      "cell_type": "code",
      "metadata": {
        "id": "fXSIALs7t1Zi",
        "colab": {
          "base_uri": "https://localhost:8080/"
        },
        "outputId": "6d7a2234-9b83-44af-f1b7-77ec72e9f191"
      },
      "source": [
        "import numpy as np\n",
        "\n",
        "def create_lookup_tables(text):\n",
        "    \"\"\"\n",
        "    Create lookup tables for vocabulary\n",
        "    :param text: The text of tv scripts split into words\n",
        "    :return: A tuple of dicts (vocab_to_int, int_to_vocab)\n",
        "    \"\"\"\n",
        "    vocab = set(text)\n",
        "    vocabToInt = {word:i for i, word in enumerate(vocab)}\n",
        "    intToVocab = {i:word for i, word in enumerate(vocab)}\n",
        "    return (vocabToInt, intToVocab)\n",
        "\n",
        "\n",
        "\"\"\"\n",
        "DON'T MODIFY ANYTHING IN THIS CELL THAT IS BELOW THIS LINE\n",
        "\"\"\"\n",
        "test_create_lookup_tables(create_lookup_tables)"
      ],
      "execution_count": null,
      "outputs": [
        {
          "output_type": "stream",
          "text": [
            "Tests Passed\n"
          ],
          "name": "stdout"
        }
      ]
    },
    {
      "cell_type": "markdown",
      "metadata": {
        "id": "AB42hV_jt1Zi"
      },
      "source": [
        "### Tokenize Punctuation\n",
        "We'll be splitting the script into a word array using spaces as delimiters.  However, punctuations like periods and exclamation marks make it hard for the neural network to distinguish between the word \"bye\" and \"bye!\".\n",
        "\n",
        "Implement the function `token_lookup` to return a dict that will be used to tokenize symbols like \"!\" into \"||Exclamation_Mark||\".  Create a dictionary for the following symbols where the symbol is the key and value is the token:\n",
        "- Period ( . )\n",
        "- Comma ( , )\n",
        "- Quotation Mark ( \" )\n",
        "- Semicolon ( ; )\n",
        "- Exclamation mark ( ! )\n",
        "- Question mark ( ? )\n",
        "- Left Parentheses ( ( )\n",
        "- Right Parentheses ( ) )\n",
        "- Dash ( -- )\n",
        "- Return ( \\n )\n",
        "\n",
        "This dictionary will be used to token the symbols and add the delimiter (space) around it.  This separates the symbols as it's own word, making it easier for the neural network to predict on the next word. Make sure you don't use a token that could be confused as a word. Instead of using the token \"dash\", try using something like \"||dash||\"."
      ]
    },
    {
      "cell_type": "code",
      "metadata": {
        "id": "guAGkjHDt1Zi",
        "colab": {
          "base_uri": "https://localhost:8080/"
        },
        "outputId": "6c06fa6f-9c70-44a9-a21c-ac3a1fee9beb"
      },
      "source": [
        "def token_lookup():\n",
        "    \"\"\"\n",
        "    Generate a dict to turn punctuation into a token.\n",
        "    :return: Tokenize dictionary where the key is the punctuation and the value is the token\n",
        "    \"\"\"\n",
        "    # TODO: Implement Function\n",
        "    return {'.':'||Period||',\n",
        "            ',':'||Comma||',\n",
        "            '\"':'||Quotation_Mark||',\n",
        "            ';':'||Semicolon||', \n",
        "            '!':'||Exclamation_Mark||',\n",
        "            '?':'||Question_Mark||', \n",
        "            '(':'||Left_Parentheses||', \n",
        "            ')':'||Right_Parentheses||',\n",
        "            '--':'||Dash||',\n",
        "            '\\n':'||Return||'}\n",
        "\n",
        "\"\"\"\n",
        "DON'T MODIFY ANYTHING IN THIS CELL THAT IS BELOW THIS LINE\n",
        "\"\"\"\n",
        "test_tokenize(token_lookup)"
      ],
      "execution_count": null,
      "outputs": [
        {
          "output_type": "stream",
          "text": [
            "Tests Passed\n"
          ],
          "name": "stdout"
        }
      ]
    },
    {
      "cell_type": "markdown",
      "metadata": {
        "id": "YYtmVVq-t1Zj"
      },
      "source": [
        "## Preprocess all the data and save it\n",
        "Running the code cell below will preprocess all the data and save it to file."
      ]
    },
    {
      "cell_type": "code",
      "metadata": {
        "id": "3N_6CwH_t1Zj"
      },
      "source": [
        "\"\"\"\n",
        "DON'T MODIFY ANYTHING IN THIS CELL\n",
        "\"\"\"\n",
        "# Preprocess Training, Validation, and Testing Data\n",
        "preprocess_and_save_data(data_dir, token_lookup, create_lookup_tables)\n"
      ],
      "execution_count": null,
      "outputs": []
    },
    {
      "cell_type": "markdown",
      "metadata": {
        "id": "97IESwgUt1Zj"
      },
      "source": [
        "# Check Point\n",
        "This is your first checkpoint. If you ever decide to come back to this notebook or have to restart the notebook, you can start from here. The preprocessed data has been saved to disk."
      ]
    },
    {
      "cell_type": "code",
      "metadata": {
        "id": "BvYi88Ipt1Zj"
      },
      "source": [
        "\"\"\"\n",
        "DON'T MODIFY ANYTHING IN THIS CELL\n",
        "\"\"\"\n",
        "\n",
        "import numpy as np\n",
        "\n",
        "\n",
        "int_text, vocab_to_int, int_to_vocab, token_dict = load_preprocess()"
      ],
      "execution_count": null,
      "outputs": []
    },
    {
      "cell_type": "markdown",
      "metadata": {
        "id": "gxf1Z7SYt1Zj"
      },
      "source": [
        "## Build the Neural Network\n",
        "You'll build the components necessary to build a RNN by implementing the following functions below:\n",
        "- get_inputs\n",
        "- get_init_cell\n",
        "- get_embed\n",
        "- build_rnn\n",
        "- build_nn\n",
        "- get_batches\n",
        "\n",
        "### Check the Version of TensorFlow and Access to GPU"
      ]
    },
    {
      "cell_type": "code",
      "metadata": {
        "id": "nlRemeSOt1Zj",
        "colab": {
          "base_uri": "https://localhost:8080/"
        },
        "outputId": "17e6cab3-bc73-4b7a-ff82-144397478d70"
      },
      "source": [
        "\"\"\"\n",
        "DON'T MODIFY ANYTHING IN THIS CELL\n",
        "\"\"\"\n",
        "from distutils.version import LooseVersion\n",
        "import warnings\n",
        "import tensorflow as tf\n",
        "\n",
        "# Check TensorFlow Version\n",
        "assert LooseVersion(tf.__version__) >= LooseVersion('1.3'), 'Please use TensorFlow version 1.3 or newer'\n",
        "print('TensorFlow Version: {}'.format(tf.__version__))\n",
        "\n",
        "# Check for a GPU\n",
        "if not tf.test.gpu_device_name():\n",
        "    warnings.warn('No GPU found. Please use a GPU to train your neural network.')\n",
        "else:\n",
        "    print('Default GPU Device: {}'.format(tf.test.gpu_device_name()))"
      ],
      "execution_count": null,
      "outputs": [
        {
          "output_type": "stream",
          "text": [
            "TensorFlow Version: 1.14.0\n",
            "Default GPU Device: /device:GPU:0\n"
          ],
          "name": "stdout"
        }
      ]
    },
    {
      "cell_type": "markdown",
      "metadata": {
        "id": "hcIIPFXot1Zj"
      },
      "source": [
        "### Input\n",
        "Implement the `get_inputs()` function to create TF Placeholders for the Neural Network.  It should create the following placeholders:\n",
        "- Input text placeholder named \"input\" using the [TF Placeholder](https://www.tensorflow.org/api_docs/python/tf/placeholder) `name` parameter.\n",
        "- Targets placeholder\n",
        "- Learning Rate placeholder\n",
        "\n",
        "Return the placeholders in the following tuple `(Input, Targets, LearningRate)`"
      ]
    },
    {
      "cell_type": "code",
      "metadata": {
        "id": "Y3vOJqqMt1Zj",
        "colab": {
          "base_uri": "https://localhost:8080/"
        },
        "outputId": "ed3d8cb0-3197-4cb1-ed14-6ba86f8d8d88"
      },
      "source": [
        "def get_inputs():\n",
        "    \"\"\"\n",
        "    Create TF Placeholders for input, targets, and learning rate.\n",
        "    :return: Tuple (input, targets, learning rate)\n",
        "    \"\"\"\n",
        "    theInput = tf.placeholder(tf.int32, shape=[None,None], name='input')\n",
        "    targets = tf.placeholder(tf.int32, shape=[None,None], name='targets')\n",
        "    learningRate = tf.placeholder(tf.float32, name='learning_rate')\n",
        "    return (theInput, targets, learningRate)\n",
        "\n",
        "\n",
        "\"\"\"\n",
        "DON'T MODIFY ANYTHING IN THIS CELL THAT IS BELOW THIS LINE\n",
        "\"\"\"\n",
        "test_get_inputs(get_inputs)"
      ],
      "execution_count": null,
      "outputs": [
        {
          "output_type": "stream",
          "text": [
            "Tests Passed\n"
          ],
          "name": "stdout"
        }
      ]
    },
    {
      "cell_type": "markdown",
      "metadata": {
        "id": "obji1z_dt1Zk"
      },
      "source": [
        "### Build RNN Cell and Initialize\n",
        "Stack one or more [`BasicLSTMCells`](https://www.tensorflow.org/api_docs/python/tf/contrib/rnn/BasicLSTMCell) in a [`MultiRNNCell`](https://www.tensorflow.org/api_docs/python/tf/contrib/rnn/MultiRNNCell).\n",
        "- The Rnn size should be set using `rnn_size`\n",
        "- Initalize Cell State using the MultiRNNCell's [`zero_state()`](https://www.tensorflow.org/api_docs/python/tf/contrib/rnn/MultiRNNCell#zero_state) function\n",
        "    - Apply the name \"initial_state\" to the initial state using [`tf.identity()`](https://www.tensorflow.org/api_docs/python/tf/identity)\n",
        "\n",
        "Return the cell and initial state in the following tuple `(Cell, InitialState)`"
      ]
    },
    {
      "cell_type": "code",
      "metadata": {
        "id": "-HXw0QBgt1Zk",
        "colab": {
          "base_uri": "https://localhost:8080/"
        },
        "outputId": "c41d9218-d0fa-4e54-d79e-8e21ee165b97"
      },
      "source": [
        "def get_init_cell(batch_size, rnn_size):\n",
        "    \"\"\"\n",
        "    Create an RNN Cell and initialize it.\n",
        "    :param batch_size: Size of batches\n",
        "    :param rnn_size: Size of RNNs\n",
        "    :return: Tuple (cell, initialize state)\n",
        "    \"\"\"\n",
        "    numberOfLayers =2\n",
        "    lstm = tf.contrib.rnn.BasicLSTMCell(rnn_size)\n",
        "    cell = tf.contrib.rnn.MultiRNNCell([lstm, lstm])\n",
        "    initState = cell.zero_state(batch_size, tf.float32)\n",
        "    initialState = tf.identity(initState, name='initial_state')\n",
        "    return (cell, initialState)\n",
        "\n",
        "\n",
        "\"\"\"\n",
        "DON'T MODIFY ANYTHING IN THIS CELL THAT IS BELOW THIS LINE\n",
        "\"\"\"\n",
        "test_get_init_cell(get_init_cell)"
      ],
      "execution_count": null,
      "outputs": [
        {
          "output_type": "stream",
          "text": [
            "WARNING:tensorflow:From <ipython-input-10-bb4106458278>:9: BasicLSTMCell.__init__ (from tensorflow.python.ops.rnn_cell_impl) is deprecated and will be removed in a future version.\n",
            "Instructions for updating:\n",
            "This class is equivalent as tf.keras.layers.LSTMCell, and will be replaced by that in Tensorflow 2.0.\n",
            "WARNING:tensorflow:From <ipython-input-10-bb4106458278>:10: MultiRNNCell.__init__ (from tensorflow.python.ops.rnn_cell_impl) is deprecated and will be removed in a future version.\n",
            "Instructions for updating:\n",
            "This class is equivalent as tf.keras.layers.StackedRNNCells, and will be replaced by that in Tensorflow 2.0.\n",
            "WARNING:tensorflow:At least two cells provided to MultiRNNCell are the same object and will share weights.\n",
            "Tests Passed\n"
          ],
          "name": "stdout"
        }
      ]
    },
    {
      "cell_type": "markdown",
      "metadata": {
        "id": "Dg6DRkHut1Zl"
      },
      "source": [
        "### Word Embedding\n",
        "Apply embedding to `input_data` using TensorFlow.  Return the embedded sequence."
      ]
    },
    {
      "cell_type": "code",
      "metadata": {
        "id": "ZsmN5CITt1Zl",
        "colab": {
          "base_uri": "https://localhost:8080/"
        },
        "outputId": "b217ebf4-5afb-4971-9b76-f150e0fed1ee"
      },
      "source": [
        "def get_embed(input_data, vocab_size, embed_dim):\n",
        "    \"\"\"\n",
        "    Create embedding for <input_data>.\n",
        "    :param input_data: TF placeholder for text input.\n",
        "    :param vocab_size: Number of words in vocabulary.\n",
        "    :param embed_dim: Number of embedding dimensions\n",
        "    :return: Embedded input.\n",
        "    \"\"\"\n",
        "#     emb = tf.Variable(tf.random_uniform((vocab_size, embed_dim),-1,1))\n",
        "#     embed = tf.nn.embedding_lookup(emb, input_data)\n",
        "#     return embed\n",
        "    return tf.contrib.layers.embed_sequence(input_data, \n",
        "                                            vocab_size=vocab_size, \n",
        "                                            embed_dim=embed_dim)\n",
        "\n",
        "\n",
        "\"\"\"\n",
        "DON'T MODIFY ANYTHING IN THIS CELL THAT IS BELOW THIS LINE\n",
        "\"\"\"\n",
        "test_get_embed(get_embed)"
      ],
      "execution_count": null,
      "outputs": [
        {
          "output_type": "stream",
          "text": [
            "WARNING:tensorflow:From /usr/local/lib/python3.6/dist-packages/tensorflow/python/ops/init_ops.py:1251: calling VarianceScaling.__init__ (from tensorflow.python.ops.init_ops) with dtype is deprecated and will be removed in a future version.\n",
            "Instructions for updating:\n",
            "Call initializer instance with the dtype argument instead of passing it to the constructor\n",
            "Tests Passed\n"
          ],
          "name": "stdout"
        }
      ]
    },
    {
      "cell_type": "markdown",
      "metadata": {
        "id": "I6Z_0VIZt1Zl"
      },
      "source": [
        "### Build RNN\n",
        "You created a RNN Cell in the `get_init_cell()` function.  Time to use the cell to create a RNN.\n",
        "- Build the RNN using the [`tf.nn.dynamic_rnn()`](https://www.tensorflow.org/api_docs/python/tf/nn/dynamic_rnn)\n",
        " - Apply the name \"final_state\" to the final state using [`tf.identity()`](https://www.tensorflow.org/api_docs/python/tf/identity)\n",
        "\n",
        "Return the outputs and final_state state in the following tuple `(Outputs, FinalState)` "
      ]
    },
    {
      "cell_type": "code",
      "metadata": {
        "id": "RQuWBrkpt1Zl",
        "colab": {
          "base_uri": "https://localhost:8080/"
        },
        "outputId": "66505ab7-a56a-4624-8385-8f8892edbf6c"
      },
      "source": [
        "def build_rnn(cell, inputs):\n",
        "    \"\"\"\n",
        "    Create a RNN using a RNN Cell\n",
        "    :param cell: RNN Cell\n",
        "    :param inputs: Input text data\n",
        "    :return: Tuple (Outputs, Final State)\n",
        "    \"\"\"\n",
        "    output, final = tf.nn.dynamic_rnn(cell, inputs, dtype=tf.float32)\n",
        "    final = tf.identity(final, name='final_state')\n",
        "    return (output, final)\n",
        "\n",
        "\n",
        "\"\"\"\n",
        "DON'T MODIFY ANYTHING IN THIS CELL THAT IS BELOW THIS LINE\n",
        "\"\"\"\n",
        "test_build_rnn(build_rnn)"
      ],
      "execution_count": null,
      "outputs": [
        {
          "output_type": "stream",
          "text": [
            "WARNING:tensorflow:From <ipython-input-12-84b27f2b0424>:8: dynamic_rnn (from tensorflow.python.ops.rnn) is deprecated and will be removed in a future version.\n",
            "Instructions for updating:\n",
            "Please use `keras.layers.RNN(cell)`, which is equivalent to this API\n",
            "WARNING:tensorflow:Entity <bound method MultiRNNCell.call of <tensorflow.python.ops.rnn_cell_impl.MultiRNNCell object at 0x7f5b4c0e1668>> could not be transformed and will be executed as-is. Please report this to the AutgoGraph team. When filing the bug, set the verbosity to 10 (on Linux, `export AUTOGRAPH_VERBOSITY=10`) and attach the full output. Cause: converting <bound method MultiRNNCell.call of <tensorflow.python.ops.rnn_cell_impl.MultiRNNCell object at 0x7f5b4c0e1668>>: AttributeError: module 'gast' has no attribute 'Num'\n",
            "WARNING: Entity <bound method MultiRNNCell.call of <tensorflow.python.ops.rnn_cell_impl.MultiRNNCell object at 0x7f5b4c0e1668>> could not be transformed and will be executed as-is. Please report this to the AutgoGraph team. When filing the bug, set the verbosity to 10 (on Linux, `export AUTOGRAPH_VERBOSITY=10`) and attach the full output. Cause: converting <bound method MultiRNNCell.call of <tensorflow.python.ops.rnn_cell_impl.MultiRNNCell object at 0x7f5b4c0e1668>>: AttributeError: module 'gast' has no attribute 'Num'\n",
            "WARNING:tensorflow:From /usr/local/lib/python3.6/dist-packages/tensorflow/python/ops/rnn_cell_impl.py:738: calling Zeros.__init__ (from tensorflow.python.ops.init_ops) with dtype is deprecated and will be removed in a future version.\n",
            "Instructions for updating:\n",
            "Call initializer instance with the dtype argument instead of passing it to the constructor\n",
            "WARNING:tensorflow:Entity <bound method BasicLSTMCell.call of <tensorflow.python.ops.rnn_cell_impl.BasicLSTMCell object at 0x7f5b4c0e11d0>> could not be transformed and will be executed as-is. Please report this to the AutgoGraph team. When filing the bug, set the verbosity to 10 (on Linux, `export AUTOGRAPH_VERBOSITY=10`) and attach the full output. Cause: converting <bound method BasicLSTMCell.call of <tensorflow.python.ops.rnn_cell_impl.BasicLSTMCell object at 0x7f5b4c0e11d0>>: AssertionError: Bad argument number for Name: 3, expecting 4\n",
            "WARNING: Entity <bound method BasicLSTMCell.call of <tensorflow.python.ops.rnn_cell_impl.BasicLSTMCell object at 0x7f5b4c0e11d0>> could not be transformed and will be executed as-is. Please report this to the AutgoGraph team. When filing the bug, set the verbosity to 10 (on Linux, `export AUTOGRAPH_VERBOSITY=10`) and attach the full output. Cause: converting <bound method BasicLSTMCell.call of <tensorflow.python.ops.rnn_cell_impl.BasicLSTMCell object at 0x7f5b4c0e11d0>>: AssertionError: Bad argument number for Name: 3, expecting 4\n",
            "WARNING:tensorflow:Entity <bound method BasicLSTMCell.call of <tensorflow.python.ops.rnn_cell_impl.BasicLSTMCell object at 0x7f5b4c0e1898>> could not be transformed and will be executed as-is. Please report this to the AutgoGraph team. When filing the bug, set the verbosity to 10 (on Linux, `export AUTOGRAPH_VERBOSITY=10`) and attach the full output. Cause: converting <bound method BasicLSTMCell.call of <tensorflow.python.ops.rnn_cell_impl.BasicLSTMCell object at 0x7f5b4c0e1898>>: AssertionError: Bad argument number for Name: 3, expecting 4\n",
            "WARNING: Entity <bound method BasicLSTMCell.call of <tensorflow.python.ops.rnn_cell_impl.BasicLSTMCell object at 0x7f5b4c0e1898>> could not be transformed and will be executed as-is. Please report this to the AutgoGraph team. When filing the bug, set the verbosity to 10 (on Linux, `export AUTOGRAPH_VERBOSITY=10`) and attach the full output. Cause: converting <bound method BasicLSTMCell.call of <tensorflow.python.ops.rnn_cell_impl.BasicLSTMCell object at 0x7f5b4c0e1898>>: AssertionError: Bad argument number for Name: 3, expecting 4\n",
            "Tests Passed\n"
          ],
          "name": "stdout"
        }
      ]
    },
    {
      "cell_type": "markdown",
      "metadata": {
        "id": "lSzqU1CZt1Zl"
      },
      "source": [
        "### Build the Neural Network\n",
        "Apply the functions you implemented above to:\n",
        "- Apply embedding to `input_data` using your `get_embed(input_data, vocab_size, embed_dim)` function.\n",
        "- Build RNN using `cell` and your `build_rnn(cell, inputs)` function.\n",
        "- Apply a fully connected layer with a linear activation and `vocab_size` as the number of outputs.\n",
        "\n",
        "Return the logits and final state in the following tuple (Logits, FinalState) "
      ]
    },
    {
      "cell_type": "code",
      "metadata": {
        "id": "_yV4-srct1Zl",
        "colab": {
          "base_uri": "https://localhost:8080/"
        },
        "outputId": "0fc1d2d0-5c38-4e6c-e776-2f8aead4c518"
      },
      "source": [
        "def build_nn(cell, rnn_size, input_data, vocab_size, embed_dim):\n",
        "    \"\"\"\n",
        "    Build part of the neural network\n",
        "    :param cell: RNN cell\n",
        "    :param rnn_size: Size of rnns\n",
        "    :param input_data: Input data\n",
        "    :param vocab_size: Vocabulary size\n",
        "    :param embed_dim: Number of embedding dimensions\n",
        "    :return: Tuple (Logits, FinalState)\n",
        "    \"\"\"\n",
        "    embedLayer = get_embed(input_data, vocab_size, rnn_size)\n",
        "    (output, final) = build_rnn(cell, embedLayer)\n",
        "    logits = tf.contrib.layers.fully_connected(output, vocab_size, activation_fn=None)\n",
        "    return (logits, final)\n",
        "\n",
        "\n",
        "\"\"\"\n",
        "DON'T MODIFY ANYTHING IN THIS CELL THAT IS BELOW THIS LINE\n",
        "\"\"\"\n",
        "test_build_nn(build_nn)"
      ],
      "execution_count": null,
      "outputs": [
        {
          "output_type": "stream",
          "text": [
            "WARNING:tensorflow:Entity <bound method MultiRNNCell.call of <tensorflow.python.ops.rnn_cell_impl.MultiRNNCell object at 0x7f5b41416a20>> could not be transformed and will be executed as-is. Please report this to the AutgoGraph team. When filing the bug, set the verbosity to 10 (on Linux, `export AUTOGRAPH_VERBOSITY=10`) and attach the full output. Cause: converting <bound method MultiRNNCell.call of <tensorflow.python.ops.rnn_cell_impl.MultiRNNCell object at 0x7f5b41416a20>>: AttributeError: module 'gast' has no attribute 'Num'\n",
            "WARNING: Entity <bound method MultiRNNCell.call of <tensorflow.python.ops.rnn_cell_impl.MultiRNNCell object at 0x7f5b41416a20>> could not be transformed and will be executed as-is. Please report this to the AutgoGraph team. When filing the bug, set the verbosity to 10 (on Linux, `export AUTOGRAPH_VERBOSITY=10`) and attach the full output. Cause: converting <bound method MultiRNNCell.call of <tensorflow.python.ops.rnn_cell_impl.MultiRNNCell object at 0x7f5b41416a20>>: AttributeError: module 'gast' has no attribute 'Num'\n",
            "WARNING:tensorflow:Entity <bound method BasicLSTMCell.call of <tensorflow.python.ops.rnn_cell_impl.BasicLSTMCell object at 0x7f5b41416208>> could not be transformed and will be executed as-is. Please report this to the AutgoGraph team. When filing the bug, set the verbosity to 10 (on Linux, `export AUTOGRAPH_VERBOSITY=10`) and attach the full output. Cause: converting <bound method BasicLSTMCell.call of <tensorflow.python.ops.rnn_cell_impl.BasicLSTMCell object at 0x7f5b41416208>>: AssertionError: Bad argument number for Name: 3, expecting 4\n",
            "WARNING: Entity <bound method BasicLSTMCell.call of <tensorflow.python.ops.rnn_cell_impl.BasicLSTMCell object at 0x7f5b41416208>> could not be transformed and will be executed as-is. Please report this to the AutgoGraph team. When filing the bug, set the verbosity to 10 (on Linux, `export AUTOGRAPH_VERBOSITY=10`) and attach the full output. Cause: converting <bound method BasicLSTMCell.call of <tensorflow.python.ops.rnn_cell_impl.BasicLSTMCell object at 0x7f5b41416208>>: AssertionError: Bad argument number for Name: 3, expecting 4\n",
            "WARNING:tensorflow:Entity <bound method BasicLSTMCell.call of <tensorflow.python.ops.rnn_cell_impl.BasicLSTMCell object at 0x7f5b41416860>> could not be transformed and will be executed as-is. Please report this to the AutgoGraph team. When filing the bug, set the verbosity to 10 (on Linux, `export AUTOGRAPH_VERBOSITY=10`) and attach the full output. Cause: converting <bound method BasicLSTMCell.call of <tensorflow.python.ops.rnn_cell_impl.BasicLSTMCell object at 0x7f5b41416860>>: AssertionError: Bad argument number for Name: 3, expecting 4\n",
            "WARNING: Entity <bound method BasicLSTMCell.call of <tensorflow.python.ops.rnn_cell_impl.BasicLSTMCell object at 0x7f5b41416860>> could not be transformed and will be executed as-is. Please report this to the AutgoGraph team. When filing the bug, set the verbosity to 10 (on Linux, `export AUTOGRAPH_VERBOSITY=10`) and attach the full output. Cause: converting <bound method BasicLSTMCell.call of <tensorflow.python.ops.rnn_cell_impl.BasicLSTMCell object at 0x7f5b41416860>>: AssertionError: Bad argument number for Name: 3, expecting 4\n",
            "WARNING:tensorflow:Entity <bound method Dense.call of <tensorflow.python.layers.core.Dense object at 0x7f5b414167f0>> could not be transformed and will be executed as-is. Please report this to the AutgoGraph team. When filing the bug, set the verbosity to 10 (on Linux, `export AUTOGRAPH_VERBOSITY=10`) and attach the full output. Cause: converting <bound method Dense.call of <tensorflow.python.layers.core.Dense object at 0x7f5b414167f0>>: AssertionError: Bad argument number for Name: 3, expecting 4\n",
            "WARNING: Entity <bound method Dense.call of <tensorflow.python.layers.core.Dense object at 0x7f5b414167f0>> could not be transformed and will be executed as-is. Please report this to the AutgoGraph team. When filing the bug, set the verbosity to 10 (on Linux, `export AUTOGRAPH_VERBOSITY=10`) and attach the full output. Cause: converting <bound method Dense.call of <tensorflow.python.layers.core.Dense object at 0x7f5b414167f0>>: AssertionError: Bad argument number for Name: 3, expecting 4\n",
            "Tests Passed\n"
          ],
          "name": "stdout"
        }
      ]
    },
    {
      "cell_type": "markdown",
      "metadata": {
        "id": "IDHJRaxst1Zl"
      },
      "source": [
        "### Batches\n",
        "Implement `get_batches` to create batches of input and targets using `int_text`.  The batches should be a Numpy array with the shape `(number of batches, 2, batch size, sequence length)`. Each batch contains two elements:\n",
        "- The first element is a single batch of **input** with the shape `[batch size, sequence length]`\n",
        "- The second element is a single batch of **targets** with the shape `[batch size, sequence length]`\n",
        "\n",
        "If you can't fill the last batch with enough data, drop the last batch.\n",
        "\n",
        "For example, `get_batches([1, 2, 3, 4, 5, 6, 7, 8, 9, 10, 11, 12, 13, 14, 15, 16, 17, 18, 19, 20], 3, 2)` would return a Numpy array of the following:\n",
        "```\n",
        "[\n",
        "  # First Batch\n",
        "  [\n",
        "    # Batch of Input\n",
        "    [[ 1  2], [ 7  8], [13 14]]\n",
        "    # Batch of targets\n",
        "    [[ 2  3], [ 8  9], [14 15]]\n",
        "  ]\n",
        "\n",
        "  # Second Batch\n",
        "  [\n",
        "    # Batch of Input\n",
        "    [[ 3  4], [ 9 10], [15 16]]\n",
        "    # Batch of targets\n",
        "    [[ 4  5], [10 11], [16 17]]\n",
        "  ]\n",
        "\n",
        "  # Third Batch\n",
        "  [\n",
        "    # Batch of Input\n",
        "    [[ 5  6], [11 12], [17 18]]\n",
        "    # Batch of targets\n",
        "    [[ 6  7], [12 13], [18  1]]\n",
        "  ]\n",
        "]\n",
        "```\n",
        "\n",
        "Notice that the last target value in the last batch is the first input value of the first batch. In this case, `1`. This is a common technique used when creating sequence batches, although it is rather unintuitive."
      ]
    },
    {
      "cell_type": "code",
      "metadata": {
        "id": "-7NFKyAGt1Zl",
        "colab": {
          "base_uri": "https://localhost:8080/"
        },
        "outputId": "ac726fbb-1d11-442b-dde1-91ecc895c3a2"
      },
      "source": [
        "def get_batches(int_text, batch_size, seq_length):\n",
        "    \"\"\"\n",
        "    Return batches of input and target\n",
        "    :param int_text: Text with the words replaced by their ids\n",
        "    :param batch_size: The size of batch\n",
        "    :param seq_length: The length of sequence\n",
        "    :return: Batches as a Numpy array\n",
        "    \"\"\"\n",
        "    # TODO: Implement Function\n",
        "    numOfBatches = len(int_text) // (batch_size*seq_length)\n",
        "    npText = np.array(int_text[:numOfBatches*(batch_size*seq_length)])\n",
        "    inputText = npText.reshape(-1, seq_length)\n",
        "    targetText = np.roll(npText, -1).reshape(-1, seq_length)\n",
        "    output = np.zeros(shape=(numOfBatches, 2, batch_size, seq_length), dtype=np.int)\n",
        "    \n",
        "    for i in range(0, inputText.shape[0]):\n",
        "        x = i%numOfBatches\n",
        "        y = i // numOfBatches\n",
        "        output[x,0,y,:] = inputText[i,:]\n",
        "        output[x,1,y,:] = targetText[i,:]\n",
        "    \n",
        "    return output\n",
        "\n",
        "\n",
        "\"\"\"\n",
        "DON'T MODIFY ANYTHING IN THIS CELL THAT IS BELOW THIS LINE\n",
        "\"\"\"\n",
        "test_get_batches(get_batches)"
      ],
      "execution_count": null,
      "outputs": [
        {
          "output_type": "stream",
          "text": [
            "Tests Passed\n"
          ],
          "name": "stdout"
        }
      ]
    },
    {
      "cell_type": "markdown",
      "metadata": {
        "id": "tfyZlUL5t1Zm"
      },
      "source": [
        "## Neural Network Training\n",
        "### Hyperparameters\n",
        "Tune the following parameters:\n",
        "\n",
        "- Set `num_epochs` to the number of epochs.\n",
        "- Set `batch_size` to the batch size.\n",
        "- Set `rnn_size` to the size of the RNNs.\n",
        "- Set `embed_dim` to the size of the embedding.\n",
        "- Set `seq_length` to the length of sequence.\n",
        "- Set `learning_rate` to the learning rate.\n",
        "- Set `show_every_n_batches` to the number of batches the neural network should print progress."
      ]
    },
    {
      "cell_type": "code",
      "metadata": {
        "id": "wq2oqP6Ht1Zm"
      },
      "source": [
        "# Number of Epochs\n",
        "num_epochs = 80\n",
        "# Batch Size\n",
        "batch_size = 256\n",
        "# RNN Size\n",
        "rnn_size = 512\n",
        "# Sequence Length\n",
        "seq_length = 12\n",
        "# Learning Rate\n",
        "learning_rate = 0.001\n",
        "# Show stats for every n number of batches\n",
        "show_every_n_batches = 100\n",
        "\n",
        "\"\"\"\n",
        "DON'T MODIFY ANYTHING IN THIS CELL THAT IS BELOW THIS LINE\n",
        "\"\"\"\n",
        "save_dir = './save'"
      ],
      "execution_count": null,
      "outputs": []
    },
    {
      "cell_type": "markdown",
      "metadata": {
        "id": "4RuGUuaXt1Zm"
      },
      "source": [
        "### Build the Graph\n",
        "Build the graph using the neural network you implemented."
      ]
    },
    {
      "cell_type": "code",
      "metadata": {
        "id": "9MO5EFJwt1Zm",
        "colab": {
          "base_uri": "https://localhost:8080/",
          "height": 232
        },
        "outputId": "60333249-c57a-4c27-cd59-3453d63184be"
      },
      "source": [
        "\"\"\"\n",
        "DON'T MODIFY ANYTHING IN THIS CELL\n",
        "\"\"\"\n",
        "from tensorflow.contrib import seq2seq\n",
        "\n",
        "train_graph = tf.Graph()\n",
        "with train_graph.as_default():\n",
        "    vocab_size = len(int_to_vocab)\n",
        "    input_text, targets, lr = get_inputs()\n",
        "    input_data_shape = tf.shape(input_text)\n",
        "    cell, initial_state = get_init_cell(input_data_shape[0], rnn_size)\n",
        "    logits, final_state = build_nn(cell, rnn_size, input_text, vocab_size, embed_dim)\n",
        "\n",
        "    # Probabilities for generating words\n",
        "    probs = tf.nn.softmax(logits, name='probs')\n",
        "\n",
        "    # Loss function\n",
        "    cost = seq2seq.sequence_loss(\n",
        "        logits,\n",
        "        targets,\n",
        "        tf.ones([input_data_shape[0], input_data_shape[1]]))\n",
        "\n",
        "    # Optimizer\n",
        "    optimizer = tf.train.AdamOptimizer(lr)\n",
        "\n",
        "    # Gradient Clipping\n",
        "    gradients = optimizer.compute_gradients(cost)\n",
        "    capped_gradients = [(tf.clip_by_value(grad, -1., 1.), var) for grad, var in gradients if grad is not None]\n",
        "    train_op = optimizer.apply_gradients(capped_gradients)"
      ],
      "execution_count": null,
      "outputs": [
        {
          "output_type": "error",
          "ename": "NameError",
          "evalue": "ignored",
          "traceback": [
            "\u001b[0;31m---------------------------------------------------------------------------\u001b[0m",
            "\u001b[0;31mNameError\u001b[0m                                 Traceback (most recent call last)",
            "\u001b[0;32m<ipython-input-28-bd6cb88aaa1a>\u001b[0m in \u001b[0;36m<module>\u001b[0;34m()\u001b[0m\n\u001b[1;32m     10\u001b[0m     \u001b[0minput_data_shape\u001b[0m \u001b[0;34m=\u001b[0m \u001b[0mtf\u001b[0m\u001b[0;34m.\u001b[0m\u001b[0mshape\u001b[0m\u001b[0;34m(\u001b[0m\u001b[0minput_text\u001b[0m\u001b[0;34m)\u001b[0m\u001b[0;34m\u001b[0m\u001b[0;34m\u001b[0m\u001b[0m\n\u001b[1;32m     11\u001b[0m     \u001b[0mcell\u001b[0m\u001b[0;34m,\u001b[0m \u001b[0minitial_state\u001b[0m \u001b[0;34m=\u001b[0m \u001b[0mget_init_cell\u001b[0m\u001b[0;34m(\u001b[0m\u001b[0minput_data_shape\u001b[0m\u001b[0;34m[\u001b[0m\u001b[0;36m0\u001b[0m\u001b[0;34m]\u001b[0m\u001b[0;34m,\u001b[0m \u001b[0mrnn_size\u001b[0m\u001b[0;34m)\u001b[0m\u001b[0;34m\u001b[0m\u001b[0;34m\u001b[0m\u001b[0m\n\u001b[0;32m---> 12\u001b[0;31m     \u001b[0mlogits\u001b[0m\u001b[0;34m,\u001b[0m \u001b[0mfinal_state\u001b[0m \u001b[0;34m=\u001b[0m \u001b[0mbuild_nn\u001b[0m\u001b[0;34m(\u001b[0m\u001b[0mcell\u001b[0m\u001b[0;34m,\u001b[0m \u001b[0mrnn_size\u001b[0m\u001b[0;34m,\u001b[0m \u001b[0minput_text\u001b[0m\u001b[0;34m,\u001b[0m \u001b[0mvocab_size\u001b[0m\u001b[0;34m,\u001b[0m \u001b[0membed_dim\u001b[0m\u001b[0;34m)\u001b[0m\u001b[0;34m\u001b[0m\u001b[0;34m\u001b[0m\u001b[0m\n\u001b[0m\u001b[1;32m     13\u001b[0m \u001b[0;34m\u001b[0m\u001b[0m\n\u001b[1;32m     14\u001b[0m     \u001b[0;31m# Probabilities for generating words\u001b[0m\u001b[0;34m\u001b[0m\u001b[0;34m\u001b[0m\u001b[0;34m\u001b[0m\u001b[0m\n",
            "\u001b[0;31mNameError\u001b[0m: name 'embed_dim' is not defined"
          ]
        }
      ]
    },
    {
      "cell_type": "markdown",
      "metadata": {
        "id": "ex_0YhJvt1Zm"
      },
      "source": [
        "## Train\n",
        "Train the neural network on the preprocessed data.  If you have a hard time getting a good loss, check the [forums](https://discussions.udacity.com/) to see if anyone is having the same problem."
      ]
    },
    {
      "cell_type": "code",
      "metadata": {
        "id": "rE8V3C8Ct1Zm",
        "colab": {
          "base_uri": "https://localhost:8080/"
        },
        "outputId": "9f30f2ef-6b2c-40d8-ce26-d4064e29cef6"
      },
      "source": [
        "\"\"\"\n",
        "DON'T MODIFY ANYTHING IN THIS CELL\n",
        "\"\"\"\n",
        "batches = get_batches(int_text, batch_size, seq_length)\n",
        "\n",
        "with tf.Session(graph=train_graph) as sess:\n",
        "    sess.run(tf.global_variables_initializer())\n",
        "\n",
        "    for epoch_i in range(num_epochs):\n",
        "        state = sess.run(initial_state, {input_text: batches[0][0]})\n",
        "\n",
        "        for batch_i, (x, y) in enumerate(batches):\n",
        "            feed = {\n",
        "                input_text: x,\n",
        "                targets: y,\n",
        "                initial_state: state,\n",
        "                lr: learning_rate}\n",
        "            train_loss, state, _ = sess.run([cost, final_state, train_op], feed)\n",
        "\n",
        "            # Show every <show_every_n_batches> batches\n",
        "            if (epoch_i * len(batches) + batch_i) % show_every_n_batches == 0:\n",
        "                print('Epoch {:>3} Batch {:>4}/{}   train_loss = {:.3f}'.format(\n",
        "                    epoch_i,\n",
        "                    batch_i,\n",
        "                    len(batches),\n",
        "                    train_loss))\n",
        "\n",
        "    # Save Model\n",
        "    saver = tf.train.Saver()\n",
        "    saver.save(sess, save_dir)\n",
        "    print('Model Trained and Saved')"
      ],
      "execution_count": null,
      "outputs": [
        {
          "output_type": "stream",
          "text": [
            "Epoch   0 Batch    0/769   train_loss = 11.009\n",
            "Epoch   0 Batch  100/769   train_loss = 6.642\n",
            "Epoch   0 Batch  200/769   train_loss = 6.573\n",
            "Epoch   0 Batch  300/769   train_loss = 6.479\n",
            "Epoch   0 Batch  400/769   train_loss = 6.522\n",
            "Epoch   0 Batch  500/769   train_loss = 6.477\n",
            "Epoch   0 Batch  600/769   train_loss = 6.582\n",
            "Epoch   0 Batch  700/769   train_loss = 6.498\n",
            "Epoch   1 Batch   31/769   train_loss = 6.369\n",
            "Epoch   1 Batch  131/769   train_loss = 6.290\n",
            "Epoch   1 Batch  231/769   train_loss = 6.353\n",
            "Epoch   1 Batch  331/769   train_loss = 6.214\n",
            "Epoch   1 Batch  431/769   train_loss = 6.163\n",
            "Epoch   1 Batch  531/769   train_loss = 5.828\n",
            "Epoch   1 Batch  631/769   train_loss = 5.629\n",
            "Epoch   1 Batch  731/769   train_loss = 5.364\n",
            "Epoch   2 Batch   62/769   train_loss = 5.098\n",
            "Epoch   2 Batch  162/769   train_loss = 5.048\n",
            "Epoch   2 Batch  262/769   train_loss = 5.008\n",
            "Epoch   2 Batch  362/769   train_loss = 4.915\n",
            "Epoch   2 Batch  462/769   train_loss = 4.912\n",
            "Epoch   2 Batch  562/769   train_loss = 4.800\n",
            "Epoch   2 Batch  662/769   train_loss = 4.807\n",
            "Epoch   2 Batch  762/769   train_loss = 4.729\n",
            "Epoch   3 Batch   93/769   train_loss = 4.581\n",
            "Epoch   3 Batch  193/769   train_loss = 4.659\n",
            "Epoch   3 Batch  293/769   train_loss = 4.559\n",
            "Epoch   3 Batch  393/769   train_loss = 4.419\n",
            "Epoch   3 Batch  493/769   train_loss = 4.422\n",
            "Epoch   3 Batch  593/769   train_loss = 4.420\n",
            "Epoch   3 Batch  693/769   train_loss = 4.478\n",
            "Epoch   4 Batch   24/769   train_loss = 4.430\n",
            "Epoch   4 Batch  124/769   train_loss = 4.414\n",
            "Epoch   4 Batch  224/769   train_loss = 4.481\n",
            "Epoch   4 Batch  324/769   train_loss = 4.394\n",
            "Epoch   4 Batch  424/769   train_loss = 4.336\n",
            "Epoch   4 Batch  524/769   train_loss = 4.357\n",
            "Epoch   4 Batch  624/769   train_loss = 4.181\n",
            "Epoch   4 Batch  724/769   train_loss = 4.261\n",
            "Epoch   5 Batch   55/769   train_loss = 4.195\n",
            "Epoch   5 Batch  155/769   train_loss = 4.038\n",
            "Epoch   5 Batch  255/769   train_loss = 4.086\n",
            "Epoch   5 Batch  355/769   train_loss = 4.157\n",
            "Epoch   5 Batch  455/769   train_loss = 4.104\n",
            "Epoch   5 Batch  555/769   train_loss = 4.141\n",
            "Epoch   5 Batch  655/769   train_loss = 4.175\n",
            "Epoch   5 Batch  755/769   train_loss = 3.979\n",
            "Epoch   6 Batch   86/769   train_loss = 3.944\n",
            "Epoch   6 Batch  186/769   train_loss = 4.136\n",
            "Epoch   6 Batch  286/769   train_loss = 4.031\n",
            "Epoch   6 Batch  386/769   train_loss = 4.095\n",
            "Epoch   6 Batch  486/769   train_loss = 3.960\n",
            "Epoch   6 Batch  586/769   train_loss = 4.060\n",
            "Epoch   6 Batch  686/769   train_loss = 4.028\n",
            "Epoch   7 Batch   17/769   train_loss = 4.034\n",
            "Epoch   7 Batch  117/769   train_loss = 3.921\n",
            "Epoch   7 Batch  217/769   train_loss = 3.954\n",
            "Epoch   7 Batch  317/769   train_loss = 3.879\n",
            "Epoch   7 Batch  417/769   train_loss = 3.965\n",
            "Epoch   7 Batch  517/769   train_loss = 3.893\n",
            "Epoch   7 Batch  617/769   train_loss = 3.772\n",
            "Epoch   7 Batch  717/769   train_loss = 3.770\n",
            "Epoch   8 Batch   48/769   train_loss = 3.791\n",
            "Epoch   8 Batch  148/769   train_loss = 3.822\n",
            "Epoch   8 Batch  248/769   train_loss = 3.756\n",
            "Epoch   8 Batch  348/769   train_loss = 3.799\n",
            "Epoch   8 Batch  448/769   train_loss = 3.760\n",
            "Epoch   8 Batch  548/769   train_loss = 3.663\n",
            "Epoch   8 Batch  648/769   train_loss = 3.758\n",
            "Epoch   8 Batch  748/769   train_loss = 3.622\n",
            "Epoch   9 Batch   79/769   train_loss = 3.727\n",
            "Epoch   9 Batch  179/769   train_loss = 3.747\n",
            "Epoch   9 Batch  279/769   train_loss = 3.734\n",
            "Epoch   9 Batch  379/769   train_loss = 3.673\n",
            "Epoch   9 Batch  479/769   train_loss = 3.603\n",
            "Epoch   9 Batch  579/769   train_loss = 3.717\n",
            "Epoch   9 Batch  679/769   train_loss = 3.635\n",
            "Epoch  10 Batch   10/769   train_loss = 3.617\n",
            "Epoch  10 Batch  110/769   train_loss = 3.546\n",
            "Epoch  10 Batch  210/769   train_loss = 3.614\n",
            "Epoch  10 Batch  310/769   train_loss = 3.549\n",
            "Epoch  10 Batch  410/769   train_loss = 3.512\n",
            "Epoch  10 Batch  510/769   train_loss = 3.396\n",
            "Epoch  10 Batch  610/769   train_loss = 3.456\n",
            "Epoch  10 Batch  710/769   train_loss = 3.483\n",
            "Epoch  11 Batch   41/769   train_loss = 3.538\n",
            "Epoch  11 Batch  141/769   train_loss = 3.485\n",
            "Epoch  11 Batch  241/769   train_loss = 3.501\n",
            "Epoch  11 Batch  341/769   train_loss = 3.435\n",
            "Epoch  11 Batch  441/769   train_loss = 3.507\n",
            "Epoch  11 Batch  541/769   train_loss = 3.514\n",
            "Epoch  11 Batch  641/769   train_loss = 3.535\n",
            "Epoch  11 Batch  741/769   train_loss = 3.429\n",
            "Epoch  12 Batch   72/769   train_loss = 3.313\n",
            "Epoch  12 Batch  172/769   train_loss = 3.396\n",
            "Epoch  12 Batch  272/769   train_loss = 3.336\n",
            "Epoch  12 Batch  372/769   train_loss = 3.370\n",
            "Epoch  12 Batch  472/769   train_loss = 3.364\n",
            "Epoch  12 Batch  572/769   train_loss = 3.338\n",
            "Epoch  12 Batch  672/769   train_loss = 3.386\n",
            "Epoch  13 Batch    3/769   train_loss = 3.360\n",
            "Epoch  13 Batch  103/769   train_loss = 3.321\n",
            "Epoch  13 Batch  203/769   train_loss = 3.274\n",
            "Epoch  13 Batch  303/769   train_loss = 3.372\n",
            "Epoch  13 Batch  403/769   train_loss = 3.386\n",
            "Epoch  13 Batch  503/769   train_loss = 3.255\n",
            "Epoch  13 Batch  603/769   train_loss = 3.178\n",
            "Epoch  13 Batch  703/769   train_loss = 3.217\n",
            "Epoch  14 Batch   34/769   train_loss = 3.328\n",
            "Epoch  14 Batch  134/769   train_loss = 3.237\n",
            "Epoch  14 Batch  234/769   train_loss = 3.183\n",
            "Epoch  14 Batch  334/769   train_loss = 3.297\n",
            "Epoch  14 Batch  434/769   train_loss = 3.185\n",
            "Epoch  14 Batch  534/769   train_loss = 3.323\n",
            "Epoch  14 Batch  634/769   train_loss = 3.167\n",
            "Epoch  14 Batch  734/769   train_loss = 3.102\n",
            "Epoch  15 Batch   65/769   train_loss = 3.200\n",
            "Epoch  15 Batch  165/769   train_loss = 3.234\n",
            "Epoch  15 Batch  265/769   train_loss = 2.988\n",
            "Epoch  15 Batch  365/769   train_loss = 3.142\n",
            "Epoch  15 Batch  465/769   train_loss = 3.144\n",
            "Epoch  15 Batch  565/769   train_loss = 3.153\n",
            "Epoch  15 Batch  665/769   train_loss = 3.131\n",
            "Epoch  15 Batch  765/769   train_loss = 3.140\n",
            "Epoch  16 Batch   96/769   train_loss = 3.048\n",
            "Epoch  16 Batch  196/769   train_loss = 3.016\n",
            "Epoch  16 Batch  296/769   train_loss = 3.092\n",
            "Epoch  16 Batch  396/769   train_loss = 3.110\n",
            "Epoch  16 Batch  496/769   train_loss = 3.098\n",
            "Epoch  16 Batch  596/769   train_loss = 3.018\n",
            "Epoch  16 Batch  696/769   train_loss = 3.129\n",
            "Epoch  17 Batch   27/769   train_loss = 2.980\n",
            "Epoch  17 Batch  127/769   train_loss = 3.033\n",
            "Epoch  17 Batch  227/769   train_loss = 3.014\n",
            "Epoch  17 Batch  327/769   train_loss = 3.043\n",
            "Epoch  17 Batch  427/769   train_loss = 2.969\n",
            "Epoch  17 Batch  527/769   train_loss = 3.009\n",
            "Epoch  17 Batch  627/769   train_loss = 2.983\n",
            "Epoch  17 Batch  727/769   train_loss = 2.976\n",
            "Epoch  18 Batch   58/769   train_loss = 2.945\n",
            "Epoch  18 Batch  158/769   train_loss = 2.863\n",
            "Epoch  18 Batch  258/769   train_loss = 2.989\n",
            "Epoch  18 Batch  358/769   train_loss = 2.949\n",
            "Epoch  18 Batch  458/769   train_loss = 3.019\n",
            "Epoch  18 Batch  558/769   train_loss = 2.947\n",
            "Epoch  18 Batch  658/769   train_loss = 2.938\n",
            "Epoch  18 Batch  758/769   train_loss = 2.912\n",
            "Epoch  19 Batch   89/769   train_loss = 2.938\n",
            "Epoch  19 Batch  189/769   train_loss = 2.926\n",
            "Epoch  19 Batch  289/769   train_loss = 2.931\n",
            "Epoch  19 Batch  389/769   train_loss = 2.836\n",
            "Epoch  19 Batch  489/769   train_loss = 2.856\n",
            "Epoch  19 Batch  589/769   train_loss = 3.023\n",
            "Epoch  19 Batch  689/769   train_loss = 2.794\n",
            "Epoch  20 Batch   20/769   train_loss = 2.833\n",
            "Epoch  20 Batch  120/769   train_loss = 2.874\n",
            "Epoch  20 Batch  220/769   train_loss = 2.904\n",
            "Epoch  20 Batch  320/769   train_loss = 2.898\n",
            "Epoch  20 Batch  420/769   train_loss = 2.793\n",
            "Epoch  20 Batch  520/769   train_loss = 2.777\n",
            "Epoch  20 Batch  620/769   train_loss = 2.933\n",
            "Epoch  20 Batch  720/769   train_loss = 2.860\n",
            "Epoch  21 Batch   51/769   train_loss = 2.792\n",
            "Epoch  21 Batch  151/769   train_loss = 2.896\n",
            "Epoch  21 Batch  251/769   train_loss = 2.749\n",
            "Epoch  21 Batch  351/769   train_loss = 2.835\n",
            "Epoch  21 Batch  451/769   train_loss = 2.718\n",
            "Epoch  21 Batch  551/769   train_loss = 2.730\n",
            "Epoch  21 Batch  651/769   train_loss = 2.825\n",
            "Epoch  21 Batch  751/769   train_loss = 2.877\n",
            "Epoch  22 Batch   82/769   train_loss = 2.718\n",
            "Epoch  22 Batch  182/769   train_loss = 2.838\n",
            "Epoch  22 Batch  282/769   train_loss = 2.726\n",
            "Epoch  22 Batch  382/769   train_loss = 2.695\n",
            "Epoch  22 Batch  482/769   train_loss = 2.738\n",
            "Epoch  22 Batch  582/769   train_loss = 2.738\n",
            "Epoch  22 Batch  682/769   train_loss = 2.746\n",
            "Epoch  23 Batch   13/769   train_loss = 2.711\n",
            "Epoch  23 Batch  113/769   train_loss = 2.679\n",
            "Epoch  23 Batch  213/769   train_loss = 2.744\n",
            "Epoch  23 Batch  313/769   train_loss = 2.735\n",
            "Epoch  23 Batch  413/769   train_loss = 2.565\n",
            "Epoch  23 Batch  513/769   train_loss = 2.733\n",
            "Epoch  23 Batch  613/769   train_loss = 2.731\n",
            "Epoch  23 Batch  713/769   train_loss = 2.573\n",
            "Epoch  24 Batch   44/769   train_loss = 2.759\n",
            "Epoch  24 Batch  144/769   train_loss = 2.630\n",
            "Epoch  24 Batch  244/769   train_loss = 2.654\n",
            "Epoch  24 Batch  344/769   train_loss = 2.648\n",
            "Epoch  24 Batch  444/769   train_loss = 2.647\n",
            "Epoch  24 Batch  544/769   train_loss = 2.813\n",
            "Epoch  24 Batch  644/769   train_loss = 2.724\n",
            "Epoch  24 Batch  744/769   train_loss = 2.740\n",
            "Epoch  25 Batch   75/769   train_loss = 2.806\n",
            "Epoch  25 Batch  175/769   train_loss = 2.553\n",
            "Epoch  25 Batch  275/769   train_loss = 2.592\n",
            "Epoch  25 Batch  375/769   train_loss = 2.691\n",
            "Epoch  25 Batch  475/769   train_loss = 2.586\n",
            "Epoch  25 Batch  575/769   train_loss = 2.590\n",
            "Epoch  25 Batch  675/769   train_loss = 2.671\n",
            "Epoch  26 Batch    6/769   train_loss = 2.580\n",
            "Epoch  26 Batch  106/769   train_loss = 2.657\n",
            "Epoch  26 Batch  206/769   train_loss = 2.623\n",
            "Epoch  26 Batch  306/769   train_loss = 2.620\n",
            "Epoch  26 Batch  406/769   train_loss = 2.592\n",
            "Epoch  26 Batch  506/769   train_loss = 2.612\n",
            "Epoch  26 Batch  606/769   train_loss = 2.526\n",
            "Epoch  26 Batch  706/769   train_loss = 2.616\n",
            "Epoch  27 Batch   37/769   train_loss = 2.590\n",
            "Epoch  27 Batch  137/769   train_loss = 2.550\n",
            "Epoch  27 Batch  237/769   train_loss = 2.506\n",
            "Epoch  27 Batch  337/769   train_loss = 2.617\n",
            "Epoch  27 Batch  437/769   train_loss = 2.583\n",
            "Epoch  27 Batch  537/769   train_loss = 2.526\n",
            "Epoch  27 Batch  637/769   train_loss = 2.513\n",
            "Epoch  27 Batch  737/769   train_loss = 2.536\n",
            "Epoch  28 Batch   68/769   train_loss = 2.599\n",
            "Epoch  28 Batch  168/769   train_loss = 2.664\n",
            "Epoch  28 Batch  268/769   train_loss = 2.405\n",
            "Epoch  28 Batch  368/769   train_loss = 2.467\n",
            "Epoch  28 Batch  468/769   train_loss = 2.514\n",
            "Epoch  28 Batch  568/769   train_loss = 2.448\n",
            "Epoch  28 Batch  668/769   train_loss = 2.430\n",
            "Epoch  28 Batch  768/769   train_loss = 2.468\n",
            "Epoch  29 Batch   99/769   train_loss = 2.420\n",
            "Epoch  29 Batch  199/769   train_loss = 2.551\n",
            "Epoch  29 Batch  299/769   train_loss = 2.521\n",
            "Epoch  29 Batch  399/769   train_loss = 2.508\n",
            "Epoch  29 Batch  499/769   train_loss = 2.582\n",
            "Epoch  29 Batch  599/769   train_loss = 2.451\n",
            "Epoch  29 Batch  699/769   train_loss = 2.488\n",
            "Epoch  30 Batch   30/769   train_loss = 2.528\n",
            "Epoch  30 Batch  130/769   train_loss = 2.411\n",
            "Epoch  30 Batch  230/769   train_loss = 2.403\n",
            "Epoch  30 Batch  330/769   train_loss = 2.457\n",
            "Epoch  30 Batch  430/769   train_loss = 2.458\n",
            "Epoch  30 Batch  530/769   train_loss = 2.574\n",
            "Epoch  30 Batch  630/769   train_loss = 2.349\n",
            "Epoch  30 Batch  730/769   train_loss = 2.444\n",
            "Epoch  31 Batch   61/769   train_loss = 2.490\n",
            "Epoch  31 Batch  161/769   train_loss = 2.562\n",
            "Epoch  31 Batch  261/769   train_loss = 2.367\n",
            "Epoch  31 Batch  361/769   train_loss = 2.417\n",
            "Epoch  31 Batch  461/769   train_loss = 2.422\n",
            "Epoch  31 Batch  561/769   train_loss = 2.379\n",
            "Epoch  31 Batch  661/769   train_loss = 2.357\n",
            "Epoch  31 Batch  761/769   train_loss = 2.484\n",
            "Epoch  32 Batch   92/769   train_loss = 2.462\n",
            "Epoch  32 Batch  192/769   train_loss = 2.403\n",
            "Epoch  32 Batch  292/769   train_loss = 2.402\n",
            "Epoch  32 Batch  392/769   train_loss = 2.509\n",
            "Epoch  32 Batch  492/769   train_loss = 2.365\n",
            "Epoch  32 Batch  592/769   train_loss = 2.342\n",
            "Epoch  32 Batch  692/769   train_loss = 2.544\n",
            "Epoch  33 Batch   23/769   train_loss = 2.382\n",
            "Epoch  33 Batch  123/769   train_loss = 2.376\n",
            "Epoch  33 Batch  223/769   train_loss = 2.440\n",
            "Epoch  33 Batch  323/769   train_loss = 2.326\n",
            "Epoch  33 Batch  423/769   train_loss = 2.347\n",
            "Epoch  33 Batch  523/769   train_loss = 2.393\n",
            "Epoch  33 Batch  623/769   train_loss = 2.468\n",
            "Epoch  33 Batch  723/769   train_loss = 2.387\n",
            "Epoch  34 Batch   54/769   train_loss = 2.353\n",
            "Epoch  34 Batch  154/769   train_loss = 2.451\n",
            "Epoch  34 Batch  254/769   train_loss = 2.361\n",
            "Epoch  34 Batch  354/769   train_loss = 2.336\n",
            "Epoch  34 Batch  454/769   train_loss = 2.424\n",
            "Epoch  34 Batch  554/769   train_loss = 2.484\n",
            "Epoch  34 Batch  654/769   train_loss = 2.295\n",
            "Epoch  34 Batch  754/769   train_loss = 2.263\n",
            "Epoch  35 Batch   85/769   train_loss = 2.335\n",
            "Epoch  35 Batch  185/769   train_loss = 2.321\n",
            "Epoch  35 Batch  285/769   train_loss = 2.251\n",
            "Epoch  35 Batch  385/769   train_loss = 2.464\n",
            "Epoch  35 Batch  485/769   train_loss = 2.335\n",
            "Epoch  35 Batch  585/769   train_loss = 2.319\n",
            "Epoch  35 Batch  685/769   train_loss = 2.418\n",
            "Epoch  36 Batch   16/769   train_loss = 2.340\n",
            "Epoch  36 Batch  116/769   train_loss = 2.279\n",
            "Epoch  36 Batch  216/769   train_loss = 2.312\n",
            "Epoch  36 Batch  316/769   train_loss = 2.170\n",
            "Epoch  36 Batch  416/769   train_loss = 2.450\n",
            "Epoch  36 Batch  516/769   train_loss = 2.260\n",
            "Epoch  36 Batch  616/769   train_loss = 2.291\n",
            "Epoch  36 Batch  716/769   train_loss = 2.206\n",
            "Epoch  37 Batch   47/769   train_loss = 2.332\n",
            "Epoch  37 Batch  147/769   train_loss = 2.355\n",
            "Epoch  37 Batch  247/769   train_loss = 2.299\n",
            "Epoch  37 Batch  347/769   train_loss = 2.295\n",
            "Epoch  37 Batch  447/769   train_loss = 2.325\n",
            "Epoch  37 Batch  547/769   train_loss = 2.375\n",
            "Epoch  37 Batch  647/769   train_loss = 2.324\n",
            "Epoch  37 Batch  747/769   train_loss = 2.273\n",
            "Epoch  38 Batch   78/769   train_loss = 2.227\n",
            "Epoch  38 Batch  178/769   train_loss = 2.341\n",
            "Epoch  38 Batch  278/769   train_loss = 2.221\n",
            "Epoch  38 Batch  378/769   train_loss = 2.247\n",
            "Epoch  38 Batch  478/769   train_loss = 2.239\n",
            "Epoch  38 Batch  578/769   train_loss = 2.216\n",
            "Epoch  38 Batch  678/769   train_loss = 2.308\n",
            "Epoch  39 Batch    9/769   train_loss = 2.218\n",
            "Epoch  39 Batch  109/769   train_loss = 2.282\n",
            "Epoch  39 Batch  209/769   train_loss = 2.138\n",
            "Epoch  39 Batch  309/769   train_loss = 2.204\n",
            "Epoch  39 Batch  409/769   train_loss = 2.304\n",
            "Epoch  39 Batch  509/769   train_loss = 2.235\n",
            "Epoch  39 Batch  609/769   train_loss = 2.209\n",
            "Epoch  39 Batch  709/769   train_loss = 2.344\n",
            "Epoch  40 Batch   40/769   train_loss = 2.219\n",
            "Epoch  40 Batch  140/769   train_loss = 2.263\n",
            "Epoch  40 Batch  240/769   train_loss = 2.237\n",
            "Epoch  40 Batch  340/769   train_loss = 2.164\n",
            "Epoch  40 Batch  440/769   train_loss = 2.185\n",
            "Epoch  40 Batch  540/769   train_loss = 2.256\n",
            "Epoch  40 Batch  640/769   train_loss = 2.229\n",
            "Epoch  40 Batch  740/769   train_loss = 2.244\n",
            "Epoch  41 Batch   71/769   train_loss = 2.326\n",
            "Epoch  41 Batch  171/769   train_loss = 2.229\n",
            "Epoch  41 Batch  271/769   train_loss = 2.147\n",
            "Epoch  41 Batch  371/769   train_loss = 2.223\n",
            "Epoch  41 Batch  471/769   train_loss = 2.180\n",
            "Epoch  41 Batch  571/769   train_loss = 2.146\n",
            "Epoch  41 Batch  671/769   train_loss = 2.140\n",
            "Epoch  42 Batch    2/769   train_loss = 2.344\n",
            "Epoch  42 Batch  102/769   train_loss = 2.200\n",
            "Epoch  42 Batch  202/769   train_loss = 2.139\n",
            "Epoch  42 Batch  302/769   train_loss = 2.251\n",
            "Epoch  42 Batch  402/769   train_loss = 2.264\n",
            "Epoch  42 Batch  502/769   train_loss = 2.281\n",
            "Epoch  42 Batch  602/769   train_loss = 2.125\n",
            "Epoch  42 Batch  702/769   train_loss = 2.085\n",
            "Epoch  43 Batch   33/769   train_loss = 2.225\n",
            "Epoch  43 Batch  133/769   train_loss = 2.085\n",
            "Epoch  43 Batch  233/769   train_loss = 2.172\n",
            "Epoch  43 Batch  333/769   train_loss = 2.208\n",
            "Epoch  43 Batch  433/769   train_loss = 2.137\n",
            "Epoch  43 Batch  533/769   train_loss = 2.103\n",
            "Epoch  43 Batch  633/769   train_loss = 2.087\n",
            "Epoch  43 Batch  733/769   train_loss = 2.245\n",
            "Epoch  44 Batch   64/769   train_loss = 2.115\n",
            "Epoch  44 Batch  164/769   train_loss = 2.123\n",
            "Epoch  44 Batch  264/769   train_loss = 2.013\n",
            "Epoch  44 Batch  364/769   train_loss = 2.102\n",
            "Epoch  44 Batch  464/769   train_loss = 2.210\n",
            "Epoch  44 Batch  564/769   train_loss = 2.222\n",
            "Epoch  44 Batch  664/769   train_loss = 2.229\n",
            "Epoch  44 Batch  764/769   train_loss = 2.190\n",
            "Epoch  45 Batch   95/769   train_loss = 2.096\n",
            "Epoch  45 Batch  195/769   train_loss = 2.052\n",
            "Epoch  45 Batch  295/769   train_loss = 2.172\n",
            "Epoch  45 Batch  395/769   train_loss = 2.070\n",
            "Epoch  45 Batch  495/769   train_loss = 2.177\n",
            "Epoch  45 Batch  595/769   train_loss = 2.148\n",
            "Epoch  45 Batch  695/769   train_loss = 2.167\n",
            "Epoch  46 Batch   26/769   train_loss = 2.149\n",
            "Epoch  46 Batch  126/769   train_loss = 2.136\n",
            "Epoch  46 Batch  226/769   train_loss = 2.054\n",
            "Epoch  46 Batch  326/769   train_loss = 2.140\n",
            "Epoch  46 Batch  426/769   train_loss = 2.122\n",
            "Epoch  46 Batch  526/769   train_loss = 2.018\n",
            "Epoch  46 Batch  626/769   train_loss = 2.159\n",
            "Epoch  46 Batch  726/769   train_loss = 2.139\n",
            "Epoch  47 Batch   57/769   train_loss = 2.016\n",
            "Epoch  47 Batch  157/769   train_loss = 2.111\n",
            "Epoch  47 Batch  257/769   train_loss = 2.152\n",
            "Epoch  47 Batch  357/769   train_loss = 2.187\n",
            "Epoch  47 Batch  457/769   train_loss = 2.214\n",
            "Epoch  47 Batch  557/769   train_loss = 2.028\n",
            "Epoch  47 Batch  657/769   train_loss = 2.090\n",
            "Epoch  47 Batch  757/769   train_loss = 2.156\n",
            "Epoch  48 Batch   88/769   train_loss = 2.065\n",
            "Epoch  48 Batch  188/769   train_loss = 2.097\n",
            "Epoch  48 Batch  288/769   train_loss = 2.092\n",
            "Epoch  48 Batch  388/769   train_loss = 1.972\n",
            "Epoch  48 Batch  488/769   train_loss = 2.101\n",
            "Epoch  48 Batch  588/769   train_loss = 2.100\n",
            "Epoch  48 Batch  688/769   train_loss = 2.096\n",
            "Epoch  49 Batch   19/769   train_loss = 2.062\n",
            "Epoch  49 Batch  119/769   train_loss = 1.966\n",
            "Epoch  49 Batch  219/769   train_loss = 1.934\n",
            "Epoch  49 Batch  319/769   train_loss = 2.021\n",
            "Epoch  49 Batch  419/769   train_loss = 2.035\n",
            "Epoch  49 Batch  519/769   train_loss = 2.022\n",
            "Epoch  49 Batch  619/769   train_loss = 2.079\n",
            "Epoch  49 Batch  719/769   train_loss = 2.068\n",
            "Epoch  50 Batch   50/769   train_loss = 2.020\n",
            "Epoch  50 Batch  150/769   train_loss = 2.053\n",
            "Epoch  50 Batch  250/769   train_loss = 2.071\n",
            "Epoch  50 Batch  350/769   train_loss = 1.981\n",
            "Epoch  50 Batch  450/769   train_loss = 2.162\n",
            "Epoch  50 Batch  550/769   train_loss = 2.146\n",
            "Epoch  50 Batch  650/769   train_loss = 2.000\n",
            "Epoch  50 Batch  750/769   train_loss = 2.076\n",
            "Epoch  51 Batch   81/769   train_loss = 2.061\n",
            "Epoch  51 Batch  181/769   train_loss = 2.044\n",
            "Epoch  51 Batch  281/769   train_loss = 2.097\n",
            "Epoch  51 Batch  381/769   train_loss = 1.920\n",
            "Epoch  51 Batch  481/769   train_loss = 2.015\n",
            "Epoch  51 Batch  581/769   train_loss = 2.118\n",
            "Epoch  51 Batch  681/769   train_loss = 2.068\n",
            "Epoch  52 Batch   12/769   train_loss = 2.109\n",
            "Epoch  52 Batch  112/769   train_loss = 2.093\n",
            "Epoch  52 Batch  212/769   train_loss = 2.049\n",
            "Epoch  52 Batch  312/769   train_loss = 2.009\n",
            "Epoch  52 Batch  412/769   train_loss = 2.026\n",
            "Epoch  52 Batch  512/769   train_loss = 2.016\n",
            "Epoch  52 Batch  612/769   train_loss = 2.005\n",
            "Epoch  52 Batch  712/769   train_loss = 1.927\n",
            "Epoch  53 Batch   43/769   train_loss = 2.029\n",
            "Epoch  53 Batch  143/769   train_loss = 2.072\n",
            "Epoch  53 Batch  243/769   train_loss = 2.000\n",
            "Epoch  53 Batch  343/769   train_loss = 2.021\n",
            "Epoch  53 Batch  443/769   train_loss = 2.040\n",
            "Epoch  53 Batch  543/769   train_loss = 2.046\n",
            "Epoch  53 Batch  643/769   train_loss = 1.942\n",
            "Epoch  53 Batch  743/769   train_loss = 2.019\n",
            "Epoch  54 Batch   74/769   train_loss = 2.084\n",
            "Epoch  54 Batch  174/769   train_loss = 1.910\n",
            "Epoch  54 Batch  274/769   train_loss = 1.921\n",
            "Epoch  54 Batch  374/769   train_loss = 1.917\n",
            "Epoch  54 Batch  474/769   train_loss = 1.955\n",
            "Epoch  54 Batch  574/769   train_loss = 1.993\n",
            "Epoch  54 Batch  674/769   train_loss = 2.065\n",
            "Epoch  55 Batch    5/769   train_loss = 1.995\n",
            "Epoch  55 Batch  105/769   train_loss = 2.119\n",
            "Epoch  55 Batch  205/769   train_loss = 1.900\n",
            "Epoch  55 Batch  305/769   train_loss = 1.941\n",
            "Epoch  55 Batch  405/769   train_loss = 1.944\n",
            "Epoch  55 Batch  505/769   train_loss = 2.000\n",
            "Epoch  55 Batch  605/769   train_loss = 2.040\n",
            "Epoch  55 Batch  705/769   train_loss = 2.043\n",
            "Epoch  56 Batch   36/769   train_loss = 1.934\n",
            "Epoch  56 Batch  136/769   train_loss = 1.985\n",
            "Epoch  56 Batch  236/769   train_loss = 1.961\n",
            "Epoch  56 Batch  336/769   train_loss = 1.967\n",
            "Epoch  56 Batch  436/769   train_loss = 1.962\n",
            "Epoch  56 Batch  536/769   train_loss = 2.055\n",
            "Epoch  56 Batch  636/769   train_loss = 1.873\n",
            "Epoch  56 Batch  736/769   train_loss = 1.965\n",
            "Epoch  57 Batch   67/769   train_loss = 1.908\n",
            "Epoch  57 Batch  167/769   train_loss = 1.998\n",
            "Epoch  57 Batch  267/769   train_loss = 1.990\n",
            "Epoch  57 Batch  367/769   train_loss = 1.986\n",
            "Epoch  57 Batch  467/769   train_loss = 1.905\n",
            "Epoch  57 Batch  567/769   train_loss = 1.885\n",
            "Epoch  57 Batch  667/769   train_loss = 2.057\n",
            "Epoch  57 Batch  767/769   train_loss = 1.954\n",
            "Epoch  58 Batch   98/769   train_loss = 1.897\n",
            "Epoch  58 Batch  198/769   train_loss = 1.942\n",
            "Epoch  58 Batch  298/769   train_loss = 1.929\n",
            "Epoch  58 Batch  398/769   train_loss = 1.992\n",
            "Epoch  58 Batch  498/769   train_loss = 1.929\n",
            "Epoch  58 Batch  598/769   train_loss = 1.846\n",
            "Epoch  58 Batch  698/769   train_loss = 1.951\n",
            "Epoch  59 Batch   29/769   train_loss = 1.913\n",
            "Epoch  59 Batch  129/769   train_loss = 1.883\n",
            "Epoch  59 Batch  229/769   train_loss = 1.893\n",
            "Epoch  59 Batch  329/769   train_loss = 1.972\n",
            "Epoch  59 Batch  429/769   train_loss = 1.956\n",
            "Epoch  59 Batch  529/769   train_loss = 1.960\n",
            "Epoch  59 Batch  629/769   train_loss = 2.006\n",
            "Epoch  59 Batch  729/769   train_loss = 1.936\n",
            "Epoch  60 Batch   60/769   train_loss = 2.050\n",
            "Epoch  60 Batch  160/769   train_loss = 1.902\n",
            "Epoch  60 Batch  260/769   train_loss = 1.760\n",
            "Epoch  60 Batch  360/769   train_loss = 1.935\n",
            "Epoch  60 Batch  460/769   train_loss = 1.914\n",
            "Epoch  60 Batch  560/769   train_loss = 1.908\n",
            "Epoch  60 Batch  660/769   train_loss = 1.921\n",
            "Epoch  60 Batch  760/769   train_loss = 1.905\n",
            "Epoch  61 Batch   91/769   train_loss = 1.959\n",
            "Epoch  61 Batch  191/769   train_loss = 1.882\n",
            "Epoch  61 Batch  291/769   train_loss = 1.856\n",
            "Epoch  61 Batch  391/769   train_loss = 1.922\n",
            "Epoch  61 Batch  491/769   train_loss = 1.852\n",
            "Epoch  61 Batch  591/769   train_loss = 1.951\n",
            "Epoch  61 Batch  691/769   train_loss = 1.889\n",
            "Epoch  62 Batch   22/769   train_loss = 1.962\n",
            "Epoch  62 Batch  122/769   train_loss = 1.899\n",
            "Epoch  62 Batch  222/769   train_loss = 1.826\n",
            "Epoch  62 Batch  322/769   train_loss = 1.875\n",
            "Epoch  62 Batch  422/769   train_loss = 1.811\n",
            "Epoch  62 Batch  522/769   train_loss = 1.918\n",
            "Epoch  62 Batch  622/769   train_loss = 1.830\n",
            "Epoch  62 Batch  722/769   train_loss = 1.753\n",
            "Epoch  63 Batch   53/769   train_loss = 1.915\n",
            "Epoch  63 Batch  153/769   train_loss = 1.878\n",
            "Epoch  63 Batch  253/769   train_loss = 1.844\n",
            "Epoch  63 Batch  353/769   train_loss = 1.929\n",
            "Epoch  63 Batch  453/769   train_loss = 1.902\n",
            "Epoch  63 Batch  553/769   train_loss = 1.868\n",
            "Epoch  63 Batch  653/769   train_loss = 1.919\n",
            "Epoch  63 Batch  753/769   train_loss = 1.885\n",
            "Epoch  64 Batch   84/769   train_loss = 2.016\n",
            "Epoch  64 Batch  184/769   train_loss = 1.803\n",
            "Epoch  64 Batch  284/769   train_loss = 1.934\n",
            "Epoch  64 Batch  384/769   train_loss = 1.823\n",
            "Epoch  64 Batch  484/769   train_loss = 1.880\n",
            "Epoch  64 Batch  584/769   train_loss = 1.859\n",
            "Epoch  64 Batch  684/769   train_loss = 1.842\n",
            "Epoch  65 Batch   15/769   train_loss = 1.866\n",
            "Epoch  65 Batch  115/769   train_loss = 1.898\n",
            "Epoch  65 Batch  215/769   train_loss = 1.813\n",
            "Epoch  65 Batch  315/769   train_loss = 1.750\n",
            "Epoch  65 Batch  415/769   train_loss = 1.891\n",
            "Epoch  65 Batch  515/769   train_loss = 1.850\n",
            "Epoch  65 Batch  615/769   train_loss = 1.801\n",
            "Epoch  65 Batch  715/769   train_loss = 1.925\n",
            "Epoch  66 Batch   46/769   train_loss = 1.835\n",
            "Epoch  66 Batch  146/769   train_loss = 1.861\n",
            "Epoch  66 Batch  246/769   train_loss = 1.882\n",
            "Epoch  66 Batch  346/769   train_loss = 1.815\n",
            "Epoch  66 Batch  446/769   train_loss = 1.964\n",
            "Epoch  66 Batch  546/769   train_loss = 1.891\n",
            "Epoch  66 Batch  646/769   train_loss = 1.887\n",
            "Epoch  66 Batch  746/769   train_loss = 1.808\n",
            "Epoch  67 Batch   77/769   train_loss = 1.965\n",
            "Epoch  67 Batch  177/769   train_loss = 1.936\n",
            "Epoch  67 Batch  277/769   train_loss = 1.947\n",
            "Epoch  67 Batch  377/769   train_loss = 1.772\n",
            "Epoch  67 Batch  477/769   train_loss = 1.831\n",
            "Epoch  67 Batch  577/769   train_loss = 1.707\n",
            "Epoch  67 Batch  677/769   train_loss = 1.785\n",
            "Epoch  68 Batch    8/769   train_loss = 1.856\n",
            "Epoch  68 Batch  108/769   train_loss = 1.770\n",
            "Epoch  68 Batch  208/769   train_loss = 1.745\n",
            "Epoch  68 Batch  308/769   train_loss = 1.763\n",
            "Epoch  68 Batch  408/769   train_loss = 1.881\n",
            "Epoch  68 Batch  508/769   train_loss = 1.795\n",
            "Epoch  68 Batch  608/769   train_loss = 1.819\n",
            "Epoch  68 Batch  708/769   train_loss = 1.844\n",
            "Epoch  69 Batch   39/769   train_loss = 1.884\n",
            "Epoch  69 Batch  139/769   train_loss = 1.736\n",
            "Epoch  69 Batch  239/769   train_loss = 1.809\n",
            "Epoch  69 Batch  339/769   train_loss = 1.738\n",
            "Epoch  69 Batch  439/769   train_loss = 1.876\n",
            "Epoch  69 Batch  539/769   train_loss = 1.873\n",
            "Epoch  69 Batch  639/769   train_loss = 1.710\n",
            "Epoch  69 Batch  739/769   train_loss = 1.837\n",
            "Epoch  70 Batch   70/769   train_loss = 1.898\n",
            "Epoch  70 Batch  170/769   train_loss = 1.869\n",
            "Epoch  70 Batch  270/769   train_loss = 1.734\n",
            "Epoch  70 Batch  370/769   train_loss = 1.712\n",
            "Epoch  70 Batch  470/769   train_loss = 1.846\n",
            "Epoch  70 Batch  570/769   train_loss = 1.755\n",
            "Epoch  70 Batch  670/769   train_loss = 1.879\n",
            "Epoch  71 Batch    1/769   train_loss = 1.839\n",
            "Epoch  71 Batch  101/769   train_loss = 1.790\n",
            "Epoch  71 Batch  201/769   train_loss = 1.729\n",
            "Epoch  71 Batch  301/769   train_loss = 1.783\n",
            "Epoch  71 Batch  401/769   train_loss = 1.782\n",
            "Epoch  71 Batch  501/769   train_loss = 1.857\n",
            "Epoch  71 Batch  601/769   train_loss = 1.798\n",
            "Epoch  71 Batch  701/769   train_loss = 1.790\n",
            "Epoch  72 Batch   32/769   train_loss = 1.790\n",
            "Epoch  72 Batch  132/769   train_loss = 1.683\n",
            "Epoch  72 Batch  232/769   train_loss = 1.779\n",
            "Epoch  72 Batch  332/769   train_loss = 1.786\n",
            "Epoch  72 Batch  432/769   train_loss = 1.754\n",
            "Epoch  72 Batch  532/769   train_loss = 1.799\n",
            "Epoch  72 Batch  632/769   train_loss = 1.721\n",
            "Epoch  72 Batch  732/769   train_loss = 1.814\n",
            "Epoch  73 Batch   63/769   train_loss = 1.777\n",
            "Epoch  73 Batch  163/769   train_loss = 1.710\n",
            "Epoch  73 Batch  263/769   train_loss = 1.737\n",
            "Epoch  73 Batch  363/769   train_loss = 1.724\n",
            "Epoch  73 Batch  463/769   train_loss = 1.847\n",
            "Epoch  73 Batch  563/769   train_loss = 1.833\n",
            "Epoch  73 Batch  663/769   train_loss = 1.737\n",
            "Epoch  73 Batch  763/769   train_loss = 1.764\n",
            "Epoch  74 Batch   94/769   train_loss = 1.790\n",
            "Epoch  74 Batch  194/769   train_loss = 1.776\n",
            "Epoch  74 Batch  294/769   train_loss = 1.749\n",
            "Epoch  74 Batch  394/769   train_loss = 1.799\n",
            "Epoch  74 Batch  494/769   train_loss = 1.808\n",
            "Epoch  74 Batch  594/769   train_loss = 1.743\n",
            "Epoch  74 Batch  694/769   train_loss = 1.699\n",
            "Epoch  75 Batch   25/769   train_loss = 1.786\n",
            "Epoch  75 Batch  125/769   train_loss = 1.760\n",
            "Epoch  75 Batch  225/769   train_loss = 1.858\n",
            "Epoch  75 Batch  325/769   train_loss = 1.752\n",
            "Epoch  75 Batch  425/769   train_loss = 1.850\n",
            "Epoch  75 Batch  525/769   train_loss = 1.733\n",
            "Epoch  75 Batch  625/769   train_loss = 1.844\n",
            "Epoch  75 Batch  725/769   train_loss = 1.779\n",
            "Epoch  76 Batch   56/769   train_loss = 1.832\n",
            "Epoch  76 Batch  156/769   train_loss = 1.796\n",
            "Epoch  76 Batch  256/769   train_loss = 1.672\n",
            "Epoch  76 Batch  356/769   train_loss = 1.709\n",
            "Epoch  76 Batch  456/769   train_loss = 1.717\n",
            "Epoch  76 Batch  556/769   train_loss = 1.791\n",
            "Epoch  76 Batch  656/769   train_loss = 1.734\n",
            "Epoch  76 Batch  756/769   train_loss = 1.848\n",
            "Epoch  77 Batch   87/769   train_loss = 1.707\n",
            "Epoch  77 Batch  187/769   train_loss = 1.763\n",
            "Epoch  77 Batch  287/769   train_loss = 1.725\n",
            "Epoch  77 Batch  387/769   train_loss = 1.697\n",
            "Epoch  77 Batch  487/769   train_loss = 1.786\n",
            "Epoch  77 Batch  587/769   train_loss = 1.723\n",
            "Epoch  77 Batch  687/769   train_loss = 1.667\n",
            "Epoch  78 Batch   18/769   train_loss = 1.746\n",
            "Epoch  78 Batch  118/769   train_loss = 1.789\n",
            "Epoch  78 Batch  218/769   train_loss = 1.821\n",
            "Epoch  78 Batch  318/769   train_loss = 1.786\n",
            "Epoch  78 Batch  418/769   train_loss = 1.770\n",
            "Epoch  78 Batch  518/769   train_loss = 1.759\n",
            "Epoch  78 Batch  618/769   train_loss = 1.722\n",
            "Epoch  78 Batch  718/769   train_loss = 1.688\n",
            "Epoch  79 Batch   49/769   train_loss = 1.672\n",
            "Epoch  79 Batch  149/769   train_loss = 1.752\n",
            "Epoch  79 Batch  249/769   train_loss = 1.718\n",
            "Epoch  79 Batch  349/769   train_loss = 1.681\n",
            "Epoch  79 Batch  449/769   train_loss = 1.662\n",
            "Epoch  79 Batch  549/769   train_loss = 1.732\n",
            "Epoch  79 Batch  649/769   train_loss = 1.721\n",
            "Epoch  79 Batch  749/769   train_loss = 1.646\n",
            "Model Trained and Saved\n"
          ],
          "name": "stdout"
        }
      ]
    },
    {
      "cell_type": "markdown",
      "metadata": {
        "id": "GzDfurCyt1Zm"
      },
      "source": [
        "## Save Parameters\n",
        "Save `seq_length` and `save_dir` for generating a new TV script."
      ]
    },
    {
      "cell_type": "code",
      "metadata": {
        "colab": {
          "base_uri": "https://localhost:8080/"
        },
        "id": "BXHcnYZpX-NF",
        "outputId": "f28e1a5f-6a39-4f2e-ac5e-2a994602e692"
      },
      "source": [
        "cd \"/content/drive/MyDrive/Colab Notebooks/RNN-Movie-Script-Generator-master\""
      ],
      "execution_count": null,
      "outputs": [
        {
          "output_type": "stream",
          "text": [
            "/content/drive/MyDrive/Colab Notebooks/RNN-Movie-Script-Generator-master\n"
          ],
          "name": "stdout"
        }
      ]
    },
    {
      "cell_type": "code",
      "metadata": {
        "id": "os5gQPnct1Zm",
        "colab": {
          "base_uri": "https://localhost:8080/",
          "height": 198
        },
        "outputId": "751b4c20-b605-4d44-eaa2-f6b83e9dd86b"
      },
      "source": [
        "\"\"\"\n",
        "DON'T MODIFY ANYTHING IN THIS CELL\n",
        "\"\"\"\n",
        "# Save parameters for checkpoint\n",
        "save_params((seq_length, save_dir))"
      ],
      "execution_count": null,
      "outputs": [
        {
          "output_type": "error",
          "ename": "NameError",
          "evalue": "ignored",
          "traceback": [
            "\u001b[0;31m---------------------------------------------------------------------------\u001b[0m",
            "\u001b[0;31mNameError\u001b[0m                                 Traceback (most recent call last)",
            "\u001b[0;32m<ipython-input-15-de1984b00e62>\u001b[0m in \u001b[0;36m<module>\u001b[0;34m()\u001b[0m\n\u001b[1;32m      3\u001b[0m \"\"\"\n\u001b[1;32m      4\u001b[0m \u001b[0;31m# Save parameters for checkpoint\u001b[0m\u001b[0;34m\u001b[0m\u001b[0;34m\u001b[0m\u001b[0;34m\u001b[0m\u001b[0m\n\u001b[0;32m----> 5\u001b[0;31m \u001b[0msave_params\u001b[0m\u001b[0;34m(\u001b[0m\u001b[0;34m(\u001b[0m\u001b[0mseq_length\u001b[0m\u001b[0;34m,\u001b[0m \u001b[0msave_dir\u001b[0m\u001b[0;34m)\u001b[0m\u001b[0;34m)\u001b[0m\u001b[0;34m\u001b[0m\u001b[0;34m\u001b[0m\u001b[0m\n\u001b[0m",
            "\u001b[0;31mNameError\u001b[0m: name 'seq_length' is not defined"
          ]
        }
      ]
    },
    {
      "cell_type": "markdown",
      "metadata": {
        "id": "HgAJs39dt1Zm"
      },
      "source": [
        "# Checkpoint"
      ]
    },
    {
      "cell_type": "code",
      "metadata": {
        "id": "1yJAU3apt1Zm",
        "colab": {
          "base_uri": "https://localhost:8080/",
          "height": 215
        },
        "outputId": "93724555-1c82-4e99-edeb-bae0573b7634"
      },
      "source": [
        "\"\"\"\n",
        "DON'T MODIFY ANYTHING IN THIS CELL\n",
        "\"\"\"\n",
        "import tensorflow as tf\n",
        "import numpy as np\n",
        "import helper\n",
        "import problem_unittests as tests\n",
        "\n",
        "_, vocab_to_int, int_to_vocab, token_dict = helper.load_preprocess()\n",
        "seq_length, load_dir = helper.load_params()"
      ],
      "execution_count": null,
      "outputs": [
        {
          "output_type": "error",
          "ename": "AttributeError",
          "evalue": "ignored",
          "traceback": [
            "\u001b[0;31m---------------------------------------------------------------------------\u001b[0m",
            "\u001b[0;31mAttributeError\u001b[0m                            Traceback (most recent call last)",
            "\u001b[0;32m<ipython-input-20-f4c41506581a>\u001b[0m in \u001b[0;36m<module>\u001b[0;34m()\u001b[0m\n\u001b[1;32m      7\u001b[0m \u001b[0;32mimport\u001b[0m \u001b[0mproblem_unittests\u001b[0m \u001b[0;32mas\u001b[0m \u001b[0mtests\u001b[0m\u001b[0;34m\u001b[0m\u001b[0;34m\u001b[0m\u001b[0m\n\u001b[1;32m      8\u001b[0m \u001b[0;34m\u001b[0m\u001b[0m\n\u001b[0;32m----> 9\u001b[0;31m \u001b[0m_\u001b[0m\u001b[0;34m,\u001b[0m \u001b[0mvocab_to_int\u001b[0m\u001b[0;34m,\u001b[0m \u001b[0mint_to_vocab\u001b[0m\u001b[0;34m,\u001b[0m \u001b[0mtoken_dict\u001b[0m \u001b[0;34m=\u001b[0m \u001b[0mhelper\u001b[0m\u001b[0;34m.\u001b[0m\u001b[0mload_preprocess\u001b[0m\u001b[0;34m(\u001b[0m\u001b[0;34m)\u001b[0m\u001b[0;34m\u001b[0m\u001b[0;34m\u001b[0m\u001b[0m\n\u001b[0m\u001b[1;32m     10\u001b[0m \u001b[0mseq_length\u001b[0m\u001b[0;34m,\u001b[0m \u001b[0mload_dir\u001b[0m \u001b[0;34m=\u001b[0m \u001b[0mhelper\u001b[0m\u001b[0;34m.\u001b[0m\u001b[0mload_params\u001b[0m\u001b[0;34m(\u001b[0m\u001b[0;34m)\u001b[0m\u001b[0;34m\u001b[0m\u001b[0;34m\u001b[0m\u001b[0m\n",
            "\u001b[0;31mAttributeError\u001b[0m: module 'helper' has no attribute 'load_preprocess'"
          ]
        }
      ]
    },
    {
      "cell_type": "markdown",
      "metadata": {
        "id": "b5QMQrhnt1Zm"
      },
      "source": [
        "## Implement Generate Functions\n",
        "### Get Tensors\n",
        "Get tensors from `loaded_graph` using the function [`get_tensor_by_name()`](https://www.tensorflow.org/api_docs/python/tf/Graph#get_tensor_by_name).  Get the tensors using the following names:\n",
        "- \"input:0\"\n",
        "- \"initial_state:0\"\n",
        "- \"final_state:0\"\n",
        "- \"probs:0\"\n",
        "\n",
        "Return the tensors in the following tuple `(InputTensor, InitialStateTensor, FinalStateTensor, ProbsTensor)` "
      ]
    },
    {
      "cell_type": "code",
      "metadata": {
        "id": "1YMqtU8Qt1Zm",
        "colab": {
          "base_uri": "https://localhost:8080/"
        },
        "outputId": "3e356e70-60b7-4aa3-e415-723caa4a2932"
      },
      "source": [
        "def get_tensors(loaded_graph):\n",
        "    \"\"\"\n",
        "    Get input, initial state, final state, and probabilities tensor from <loaded_graph>\n",
        "    :param loaded_graph: TensorFlow graph loaded from file\n",
        "    :return: Tuple (InputTensor, InitialStateTensor, FinalStateTensor, ProbsTensor)\n",
        "    \"\"\"\n",
        "    InputTensor = loaded_graph.get_tensor_by_name('input:0')\n",
        "    InitialStateTensor = loaded_graph.get_tensor_by_name('initial_state:0')\n",
        "    FinalStateTensor = loaded_graph.get_tensor_by_name('final_state:0')\n",
        "    ProbsTensor = loaded_graph.get_tensor_by_name('probs:0')\n",
        "    return (InputTensor, InitialStateTensor, FinalStateTensor, ProbsTensor)\n",
        "\n",
        "\n",
        "\"\"\"\n",
        "DON'T MODIFY ANYTHING IN THIS CELL THAT IS BELOW THIS LINE\n",
        "\"\"\"\n",
        "test_get_tensors(get_tensors)"
      ],
      "execution_count": null,
      "outputs": [
        {
          "output_type": "stream",
          "text": [
            "Tests Passed\n"
          ],
          "name": "stdout"
        }
      ]
    },
    {
      "cell_type": "markdown",
      "metadata": {
        "id": "IowLDiRJt1Zm"
      },
      "source": [
        "### Choose Word\n",
        "Implement the `pick_word()` function to select the next word using `probabilities`."
      ]
    },
    {
      "cell_type": "code",
      "metadata": {
        "id": "eei1jRLLt1Zm",
        "colab": {
          "base_uri": "https://localhost:8080/"
        },
        "outputId": "c2436dbc-6303-4c6e-8b69-2ba09b0f0d84"
      },
      "source": [
        "def pick_word(probabilities, int_to_vocab):\n",
        "    \"\"\"\n",
        "    Pick the next word in the generated text\n",
        "    :param probabilities: Probabilites of the next word\n",
        "    :param int_to_vocab: Dictionary of word ids as the keys and words as the values\n",
        "    :return: String of the predicted word\n",
        "    \"\"\"\n",
        "    argmax_pr = np.argmax(probabilities)\n",
        "    next_word = int_to_vocab[argmax_pr]\n",
        "    return next_word\n",
        "\n",
        "\n",
        "\"\"\"\n",
        "DON'T MODIFY ANYTHING IN THIS CELL THAT IS BELOW THIS LINE\n",
        "\"\"\"\n",
        "test_pick_word(pick_word)"
      ],
      "execution_count": null,
      "outputs": [
        {
          "output_type": "stream",
          "text": [
            "Tests Passed\n"
          ],
          "name": "stdout"
        }
      ]
    },
    {
      "cell_type": "markdown",
      "metadata": {
        "id": "8eW3OP6St1Zn"
      },
      "source": [
        "## Generate TV Script\n",
        "This will generate the TV script for you.  Set `gen_length` to the length of TV script you want to generate."
      ]
    },
    {
      "cell_type": "code",
      "metadata": {
        "colab": {
          "base_uri": "https://localhost:8080/"
        },
        "id": "5P--DmxvNihV",
        "outputId": "92b81d71-0416-436d-98cf-c06c619fa3be"
      },
      "source": [
        "!pip install flask\n",
        "!pip install flask_ngrok"
      ],
      "execution_count": null,
      "outputs": [
        {
          "output_type": "stream",
          "text": [
            "Requirement already satisfied: flask in /usr/local/lib/python3.6/dist-packages (1.1.2)\n",
            "Requirement already satisfied: itsdangerous>=0.24 in /usr/local/lib/python3.6/dist-packages (from flask) (1.1.0)\n",
            "Requirement already satisfied: click>=5.1 in /usr/local/lib/python3.6/dist-packages (from flask) (7.1.2)\n",
            "Requirement already satisfied: Werkzeug>=0.15 in /usr/local/lib/python3.6/dist-packages (from flask) (1.0.1)\n",
            "Requirement already satisfied: Jinja2>=2.10.1 in /usr/local/lib/python3.6/dist-packages (from flask) (2.11.2)\n",
            "Requirement already satisfied: MarkupSafe>=0.23 in /usr/local/lib/python3.6/dist-packages (from Jinja2>=2.10.1->flask) (1.1.1)\n",
            "Collecting flask_ngrok\n",
            "  Downloading https://files.pythonhosted.org/packages/af/6c/f54cb686ad1129e27d125d182f90f52b32f284e6c8df58c1bae54fa1adbc/flask_ngrok-0.0.25-py3-none-any.whl\n",
            "Requirement already satisfied: requests in /usr/local/lib/python3.6/dist-packages (from flask_ngrok) (2.23.0)\n",
            "Requirement already satisfied: Flask>=0.8 in /usr/local/lib/python3.6/dist-packages (from flask_ngrok) (1.1.2)\n",
            "Requirement already satisfied: chardet<4,>=3.0.2 in /usr/local/lib/python3.6/dist-packages (from requests->flask_ngrok) (3.0.4)\n",
            "Requirement already satisfied: idna<3,>=2.5 in /usr/local/lib/python3.6/dist-packages (from requests->flask_ngrok) (2.10)\n",
            "Requirement already satisfied: certifi>=2017.4.17 in /usr/local/lib/python3.6/dist-packages (from requests->flask_ngrok) (2020.11.8)\n",
            "Requirement already satisfied: urllib3!=1.25.0,!=1.25.1,<1.26,>=1.21.1 in /usr/local/lib/python3.6/dist-packages (from requests->flask_ngrok) (1.24.3)\n",
            "Requirement already satisfied: click>=5.1 in /usr/local/lib/python3.6/dist-packages (from Flask>=0.8->flask_ngrok) (7.1.2)\n",
            "Requirement already satisfied: itsdangerous>=0.24 in /usr/local/lib/python3.6/dist-packages (from Flask>=0.8->flask_ngrok) (1.1.0)\n",
            "Requirement already satisfied: Werkzeug>=0.15 in /usr/local/lib/python3.6/dist-packages (from Flask>=0.8->flask_ngrok) (1.0.1)\n",
            "Requirement already satisfied: Jinja2>=2.10.1 in /usr/local/lib/python3.6/dist-packages (from Flask>=0.8->flask_ngrok) (2.11.2)\n",
            "Requirement already satisfied: MarkupSafe>=0.23 in /usr/local/lib/python3.6/dist-packages (from Jinja2>=2.10.1->Flask>=0.8->flask_ngrok) (1.1.1)\n",
            "Installing collected packages: flask-ngrok\n",
            "Successfully installed flask-ngrok-0.0.25\n"
          ],
          "name": "stdout"
        }
      ]
    },
    {
      "cell_type": "code",
      "metadata": {
        "colab": {
          "base_uri": "https://localhost:8080/"
        },
        "id": "3M5azvlXN7rj",
        "outputId": "09344be2-b69d-440d-931c-f51081cf7f99"
      },
      "source": [
        "import tensorflow as tf\n",
        "import numpy as np\n",
        "import helper\n",
        "#import problem_unittests as tests\n",
        "\n",
        "import os\n",
        "import pickle\n",
        "\n",
        "\n",
        "def load_data(path):\n",
        "    \"\"\"\n",
        "    Load Dataset from File\n",
        "    \"\"\"\n",
        "    input_file = os.path.join(path)\n",
        "    with open(input_file, \"r\") as f:\n",
        "        data = f.read()\n",
        "\n",
        "    return data\n",
        "\n",
        "\n",
        "def preprocess_and_save_data(dataset_path, token_lookup, create_lookup_tables):\n",
        "    \"\"\"\n",
        "    Preprocess Text Data\n",
        "    \"\"\"\n",
        "    text = load_data(dataset_path)\n",
        "    \n",
        "    # Ignore notice, since we don't use it for analysing the data\n",
        "    text = text[81:]\n",
        "\n",
        "    token_dict = token_lookup()\n",
        "    for key, token in token_dict.items():\n",
        "        text = text.replace(key, ' {} '.format(token))\n",
        "\n",
        "    text = text.lower()\n",
        "    text = text.split()\n",
        "\n",
        "    vocab_to_int, int_to_vocab = create_lookup_tables(text)\n",
        "    int_text = [vocab_to_int[word] for word in text]\n",
        "    pickle.dump((int_text, vocab_to_int, int_to_vocab, token_dict), open('preprocess.p', 'wb'))\n",
        "\n",
        "\n",
        "def load_preprocess():\n",
        "    \"\"\"\n",
        "    Load the Preprocessed Training data and return them in batches of <batch_size> or less\n",
        "    \"\"\"\n",
        "    return pickle.load(open('preprocess.p', mode='rb'))\n",
        "\n",
        "\n",
        "def save_params(params):\n",
        "    \"\"\"\n",
        "    Save parameters to file\n",
        "    \"\"\"\n",
        "    pickle.dump(params, open('params.p', 'wb'))\n",
        "\n",
        "\n",
        "def load_params():\n",
        "    \"\"\"\n",
        "    Load parameters from file\n",
        "    \"\"\"\n",
        "    return pickle.load(open('params.p', mode='rb'))\n",
        "\n",
        "\n",
        "\n",
        "_, vocab_to_int, int_to_vocab, token_dict = load_preprocess()\n",
        "seq_length, load_dir = load_params()\n",
        "\n",
        "def get_tensors(loaded_graph):\n",
        "    \"\"\"\n",
        "    Get input, initial state, final state, and probabilities tensor from <loaded_graph>\n",
        "    :param loaded_graph: TensorFlow graph loaded from file\n",
        "    :return: Tuple (InputTensor, InitialStateTensor, FinalStateTensor, ProbsTensor)\n",
        "    \"\"\"\n",
        "    InputTensor = loaded_graph.get_tensor_by_name('input:0')\n",
        "    InitialStateTensor = loaded_graph.get_tensor_by_name('initial_state:0')\n",
        "    FinalStateTensor = loaded_graph.get_tensor_by_name('final_state:0')\n",
        "    ProbsTensor = loaded_graph.get_tensor_by_name('probs:0')\n",
        "    return (InputTensor, InitialStateTensor, FinalStateTensor, ProbsTensor)\n",
        "\n",
        "\n",
        "\"\"\"\n",
        "DON'T MODIFY ANYTHING IN THIS CELL THAT IS BELOW THIS LINE\n",
        "\"\"\"\n",
        "test_get_tensors(get_tensors)\n",
        "\n",
        "def pick_word(probabilities, int_to_vocab):\n",
        "    \"\"\"\n",
        "    Pick the next word in the generated text\n",
        "    :param probabilities: Probabilites of the next word\n",
        "    :param int_to_vocab: Dictionary of word ids as the keys and words as the values\n",
        "    :return: String of the predicted word\n",
        "    \"\"\"\n",
        "    argmax_pr = np.argmax(probabilities)\n",
        "    next_word = int_to_vocab[argmax_pr]\n",
        "    return next_word\n",
        "\n",
        "\n",
        "\"\"\"\n",
        "DON'T MODIFY ANYTHING IN THIS CELL THAT IS BELOW THIS LINE\n",
        "\"\"\"\n",
        "test_pick_word(pick_word)\n",
        "\n",
        "\n",
        "import matplotlib.pyplot as plt\n",
        "from flask_ngrok import run_with_ngrok\n",
        "from flask import Flask\n",
        "from flask import request\n",
        "\n",
        "app = Flask(__name__)\n",
        "run_with_ngrok(app) \n",
        "\n",
        "@app.route('/gen',methods=['GET'])\n",
        "\n",
        "def generate():\n",
        "   # gen_length = 200\n",
        "    #prime_word=\"homer_simpson\"\n",
        "    \n",
        "    gen_length =int(request.args.get(\"len\"))\n",
        "# homer_simpson, moe_szyslak, or Barney_Gumble\n",
        "    prime_word = request.args.get(\"word\")\n",
        "    loaded_graph = tf.Graph()\n",
        "\n",
        "    with tf.Session(graph=loaded_graph) as sess:\n",
        "    # Load saved model\n",
        "        loader = tf.train.import_meta_graph(load_dir + '.meta')\n",
        "        loader.restore(sess, load_dir)\n",
        "\n",
        "    # Get Tensors from loaded model\n",
        "        input_text, initial_state, final_state, probs = get_tensors(loaded_graph)\n",
        "\n",
        "    # Sentences generation setup\n",
        "        gen_sentences = [prime_word + ':']\n",
        "        prev_state = sess.run(initial_state, {input_text: np.array([[1]])})\n",
        "\n",
        "    # Generate sentences\n",
        "        for n in range(gen_length):\n",
        "        # Dynamic Input\n",
        "            dyn_input = [[vocab_to_int[word] for word in gen_sentences[-seq_length:]]]\n",
        "            dyn_seq_length = len(dyn_input[0])\n",
        "\n",
        "        # Get Prediction\n",
        "            probabilities, prev_state = sess.run(\n",
        "                [probs, final_state],\n",
        "                {input_text: dyn_input, initial_state: prev_state})\n",
        "        \n",
        "            pred_word = pick_word(probabilities[0][dyn_seq_length-1], int_to_vocab)\n",
        "\n",
        "            gen_sentences.append(pred_word)\n",
        "    \n",
        "    # Remove tokens\n",
        "        tv_script = ' '.join(gen_sentences)\n",
        "        for key, token in token_dict.items():\n",
        "            ending = ' ' if key in ['\\n', '(', '\"'] else ''\n",
        "            tv_script = tv_script.replace(' ' + token.lower(), key)\n",
        "        tv_script = tv_script.replace('\\n ', '\\n')\n",
        "        tv_script = tv_script.replace('( ', '(')\n",
        "        \n",
        "    #  print(tv_script)\n",
        "\n",
        "    return \"<p>\"+ tv_script +\"</p>\"\n",
        "\n",
        "if __name__ == '__main__':\n",
        "    app.run()"
      ],
      "execution_count": null,
      "outputs": [
        {
          "output_type": "stream",
          "text": [
            "Tests Passed\n",
            "Tests Passed\n",
            " * Serving Flask app \"__main__\" (lazy loading)\n",
            " * Environment: production\n",
            "\u001b[31m   WARNING: This is a development server. Do not use it in a production deployment.\u001b[0m\n",
            "\u001b[2m   Use a production WSGI server instead.\u001b[0m\n",
            " * Debug mode: off\n"
          ],
          "name": "stdout"
        },
        {
          "output_type": "stream",
          "text": [
            " * Running on http://127.0.0.1:5000/ (Press CTRL+C to quit)\n"
          ],
          "name": "stderr"
        },
        {
          "output_type": "stream",
          "text": [
            " * Running on http://ac4b7aa05e51.ngrok.io\n",
            " * Traffic stats available on http://127.0.0.1:4040\n",
            "INFO:tensorflow:Restoring parameters from ./save\n"
          ],
          "name": "stdout"
        },
        {
          "output_type": "stream",
          "text": [
            "127.0.0.1 - - [09/Dec/2020 03:00:25] \"\u001b[37mGET /gen?word=homer_simpson&len=200 HTTP/1.1\u001b[0m\" 200 -\n"
          ],
          "name": "stderr"
        },
        {
          "output_type": "stream",
          "text": [
            "INFO:tensorflow:Restoring parameters from ./save\n"
          ],
          "name": "stdout"
        },
        {
          "output_type": "stream",
          "text": [
            "127.0.0.1 - - [09/Dec/2020 03:30:07] \"\u001b[37mGET /gen?word=homer_simpson&len=200 HTTP/1.1\u001b[0m\" 200 -\n"
          ],
          "name": "stderr"
        },
        {
          "output_type": "stream",
          "text": [
            "INFO:tensorflow:Restoring parameters from ./save\n"
          ],
          "name": "stdout"
        },
        {
          "output_type": "stream",
          "text": [
            "127.0.0.1 - - [09/Dec/2020 03:38:01] \"\u001b[37mGET /gen?word=homer_simpson&len=20 HTTP/1.1\u001b[0m\" 200 -\n",
            "127.0.0.1 - - [09/Dec/2020 03:38:01] \"\u001b[33mGET /favicon.ico HTTP/1.1\u001b[0m\" 404 -\n"
          ],
          "name": "stderr"
        },
        {
          "output_type": "stream",
          "text": [
            "INFO:tensorflow:Restoring parameters from ./save\n"
          ],
          "name": "stdout"
        },
        {
          "output_type": "stream",
          "text": [
            "127.0.0.1 - - [09/Dec/2020 03:39:28] \"\u001b[37mGET /gen?word=homer_simpson&len=20 HTTP/1.1\u001b[0m\" 200 -\n",
            "127.0.0.1 - - [09/Dec/2020 03:39:28] \"\u001b[33mGET /favicon.ico HTTP/1.1\u001b[0m\" 404 -\n"
          ],
          "name": "stderr"
        },
        {
          "output_type": "stream",
          "text": [
            "INFO:tensorflow:Restoring parameters from ./save\n"
          ],
          "name": "stdout"
        },
        {
          "output_type": "stream",
          "text": [
            "127.0.0.1 - - [09/Dec/2020 03:39:30] \"\u001b[37mGET /gen?word=homer_simpson&len=20 HTTP/1.1\u001b[0m\" 200 -\n"
          ],
          "name": "stderr"
        },
        {
          "output_type": "stream",
          "text": [
            "INFO:tensorflow:Restoring parameters from ./save\n"
          ],
          "name": "stdout"
        },
        {
          "output_type": "stream",
          "text": [
            "127.0.0.1 - - [09/Dec/2020 03:39:37] \"\u001b[37mGET /gen?word=homer_simpson&len=200 HTTP/1.1\u001b[0m\" 200 -\n"
          ],
          "name": "stderr"
        },
        {
          "output_type": "stream",
          "text": [
            "INFO:tensorflow:Restoring parameters from ./save\n"
          ],
          "name": "stdout"
        },
        {
          "output_type": "stream",
          "text": [
            "127.0.0.1 - - [09/Dec/2020 03:41:52] \"\u001b[37mGET /gen?word=moe_szyslak&len=200 HTTP/1.1\u001b[0m\" 200 -\n"
          ],
          "name": "stderr"
        },
        {
          "output_type": "stream",
          "text": [
            "INFO:tensorflow:Restoring parameters from ./save\n"
          ],
          "name": "stdout"
        },
        {
          "output_type": "stream",
          "text": [
            "127.0.0.1 - - [09/Dec/2020 04:06:42] \"\u001b[37mGET /gen?word=moe_szyslak&len=300 HTTP/1.1\u001b[0m\" 200 -\n"
          ],
          "name": "stderr"
        },
        {
          "output_type": "stream",
          "text": [
            "INFO:tensorflow:Restoring parameters from ./save\n"
          ],
          "name": "stdout"
        },
        {
          "output_type": "stream",
          "text": [
            "127.0.0.1 - - [09/Dec/2020 04:13:26] \"\u001b[37mGET /gen?word=moe_szyslak&len=100 HTTP/1.1\u001b[0m\" 200 -\n"
          ],
          "name": "stderr"
        },
        {
          "output_type": "stream",
          "text": [
            "INFO:tensorflow:Restoring parameters from ./save\n"
          ],
          "name": "stdout"
        },
        {
          "output_type": "stream",
          "text": [
            "127.0.0.1 - - [09/Dec/2020 04:14:31] \"\u001b[37mGET /gen?word=moe_szyslak&len=400 HTTP/1.1\u001b[0m\" 200 -\n"
          ],
          "name": "stderr"
        },
        {
          "output_type": "stream",
          "text": [
            "INFO:tensorflow:Restoring parameters from ./save\n"
          ],
          "name": "stdout"
        },
        {
          "output_type": "stream",
          "text": [
            "127.0.0.1 - - [09/Dec/2020 04:19:46] \"\u001b[37mGET /gen?word=homer_simpson&len=1000 HTTP/1.1\u001b[0m\" 200 -\n"
          ],
          "name": "stderr"
        },
        {
          "output_type": "stream",
          "text": [
            "INFO:tensorflow:Restoring parameters from ./save\n"
          ],
          "name": "stdout"
        },
        {
          "output_type": "stream",
          "text": [
            "127.0.0.1 - - [09/Dec/2020 04:22:27] \"\u001b[37mGET /gen?word=homer_simpson&len=400 HTTP/1.1\u001b[0m\" 200 -\n",
            "127.0.0.1 - - [09/Dec/2020 04:22:28] \"\u001b[33mGET /favicon.ico HTTP/1.1\u001b[0m\" 404 -\n"
          ],
          "name": "stderr"
        },
        {
          "output_type": "stream",
          "text": [
            "INFO:tensorflow:Restoring parameters from ./save\n"
          ],
          "name": "stdout"
        },
        {
          "output_type": "stream",
          "text": [
            "127.0.0.1 - - [09/Dec/2020 04:39:53] \"\u001b[37mGET /gen?word=homer_simpson&len=30 HTTP/1.1\u001b[0m\" 200 -\n"
          ],
          "name": "stderr"
        },
        {
          "output_type": "stream",
          "text": [
            "INFO:tensorflow:Restoring parameters from ./save\n"
          ],
          "name": "stdout"
        },
        {
          "output_type": "stream",
          "text": [
            "127.0.0.1 - - [09/Dec/2020 04:40:40] \"\u001b[37mGET /gen?word=homer_simpson&len=50 HTTP/1.1\u001b[0m\" 200 -\n"
          ],
          "name": "stderr"
        },
        {
          "output_type": "stream",
          "text": [
            "INFO:tensorflow:Restoring parameters from ./save\n"
          ],
          "name": "stdout"
        },
        {
          "output_type": "stream",
          "text": [
            "127.0.0.1 - - [09/Dec/2020 04:40:59] \"\u001b[37mGET /gen?word=homer_simpson&len=50 HTTP/1.1\u001b[0m\" 200 -\n"
          ],
          "name": "stderr"
        },
        {
          "output_type": "stream",
          "text": [
            "INFO:tensorflow:Restoring parameters from ./save\n"
          ],
          "name": "stdout"
        },
        {
          "output_type": "stream",
          "text": [
            "127.0.0.1 - - [09/Dec/2020 04:42:37] \"\u001b[37mGET /gen?word=homer_simpson&len=60 HTTP/1.1\u001b[0m\" 200 -\n"
          ],
          "name": "stderr"
        },
        {
          "output_type": "stream",
          "text": [
            "INFO:tensorflow:Restoring parameters from ./save\n"
          ],
          "name": "stdout"
        },
        {
          "output_type": "stream",
          "text": [
            "127.0.0.1 - - [09/Dec/2020 04:42:48] \"\u001b[37mGET /gen?word=homer_simpson&len=200 HTTP/1.1\u001b[0m\" 200 -\n"
          ],
          "name": "stderr"
        },
        {
          "output_type": "stream",
          "text": [
            "INFO:tensorflow:Restoring parameters from ./save\n"
          ],
          "name": "stdout"
        },
        {
          "output_type": "stream",
          "text": [
            "127.0.0.1 - - [09/Dec/2020 04:43:08] \"\u001b[37mGET /gen?word=homer_simpson&len=300 HTTP/1.1\u001b[0m\" 200 -\n"
          ],
          "name": "stderr"
        }
      ]
    },
    {
      "cell_type": "code",
      "metadata": {
        "id": "zfl2dXYgt1Zn",
        "colab": {
          "base_uri": "https://localhost:8080/"
        },
        "outputId": "32e1cd3d-de77-4dfc-f71a-de27eacb16a8"
      },
      "source": [
        "\n",
        "\n",
        "\n",
        "\n",
        "import matplotlib.pyplot as plt\n",
        "gen_length = 550\n",
        "# homer_simpson, moe_szyslak, or Barney_Gumble\n",
        "prime_word = 'homer_simpson'\n",
        "\n",
        "\"\"\"\n",
        "DON'T MODIFY ANYTHING IN THIS CELL THAT IS BELOW THIS LINE\n",
        "\"\"\"\n",
        "loaded_graph = tf.Graph()\n",
        "#plt.plot(loaded_graph)\n",
        "with tf.Session(graph=loaded_graph) as sess:\n",
        "    # Load saved model\n",
        "    loader = tf.train.import_meta_graph(load_dir + '.meta')\n",
        "    loader.restore(sess, load_dir)\n",
        "\n",
        "    # Get Tensors from loaded model\n",
        "    input_text, initial_state, final_state, probs = get_tensors(loaded_graph)\n",
        "\n",
        "    # Sentences generation setup\n",
        "    gen_sentences = [prime_word + ':']\n",
        "    prev_state = sess.run(initial_state, {input_text: np.array([[1]])})\n",
        "\n",
        "    # Generate sentences\n",
        "    for n in range(gen_length):\n",
        "        # Dynamic Input\n",
        "        dyn_input = [[vocab_to_int[word] for word in gen_sentences[-seq_length:]]]\n",
        "        dyn_seq_length = len(dyn_input[0])\n",
        "\n",
        "        # Get Prediction\n",
        "        probabilities, prev_state = sess.run(\n",
        "            [probs, final_state],\n",
        "            {input_text: dyn_input, initial_state: prev_state})\n",
        "        \n",
        "        pred_word = pick_word(probabilities[0][dyn_seq_length-1], int_to_vocab)\n",
        "\n",
        "        gen_sentences.append(pred_word)\n",
        "    \n",
        "    # Remove tokens\n",
        "    tv_script = ' '.join(gen_sentences)\n",
        "    for key, token in token_dict.items():\n",
        "        ending = ' ' if key in ['\\n', '(', '\"'] else ''\n",
        "        tv_script = tv_script.replace(' ' + token.lower(), key)\n",
        "    tv_script = tv_script.replace('\\n ', '\\n')\n",
        "    tv_script = tv_script.replace('( ', '(')\n",
        "        \n",
        "    print(tv_script)"
      ],
      "execution_count": null,
      "outputs": [
        {
          "output_type": "stream",
          "text": [
            "INFO:tensorflow:Restoring parameters from ./save\n",
            "homer_simpson:(hypnotoad-like drooling noise)\n",
            "lisa_simpson: dad, we have to exchange insurance forever.\n",
            "marge_simpson:(annoyed grunt)\n",
            "homer_simpson:(annoyed grunt)\n",
            "homer_simpson:(pained noises)\n",
            "homer_simpson:(chuckles) good one, dad.\n",
            "homer_simpson:(wiping away a glass) i don't want to hear that.\n",
            "bart_simpson:(slightly annoyed) i don't know.\n",
            "marge_simpson:(worried) that tears smell like me!\n",
            "homer_simpson:(breaking down) i don't understand. all i have left.\n",
            "barney_gumble:(belches)\n",
            "krusty_the_clown:(chuckles) ah, that is very good for you.\n",
            "homer_simpson:(annoyed grunt)\n",
            "homer_simpson:(wolf unintelligible noises)\n",
            "nelson_muntz:(mad) do you think it is?\n",
            "krusty_the_clown: oh, yeah?! i was just a belly--(scream)\n",
            "highway: ext. highway - later that night)\n",
            "barney_gumble:(on phone) y'ello.\n",
            "burns_manor: ext. burns' mansion - night(sees camera) looks asleep.\n",
            "dwight:(gasps)\n",
            "lou: hey, hey! hey! hey! bang!\n",
            "homer_simpson:(groundskeeper noises)\n",
            "homer_simpson:(pained scream)\n",
            "homer_simpson:(acting 10 voice) go home, you shall be a hundred and twenty-five minutes of springfield. we need to earn a single movie with a hose dreams.\n",
            "jimbo_jones: she sounded like a hose!\n",
            "terence: hey, you look great, baby.\n",
            "lisa_simpson:(to self) oh, my god, his feet will be on the streets of god.\n",
            "homer_simpson:(to family) wow. the boy's been a wagon!\n",
            "c. _montgomery_burns:(exasperated) ach, the tickets are coming.(chuckles) yeah, let's see, i'm also fat man.\n",
            "c. _montgomery_burns:(grunts) that makes you...\n",
            "c. _montgomery_burns:(gasps) smithers? what are you doing?\n",
            "homer_simpson:(surprised) what?\n",
            "marge_simpson:(fed up) fine. i'll talk about the competition.\n",
            "marge_simpson:(annoyed murmur)\n",
            "homer_simpson:... i was just a winner from a hospital.(to class) never mind.\n",
            "bart_simpson:(to self) okay.\n",
            "springfield_elementary_school: ext. springfield elementary - day)\n",
            "myra: arnie...\n",
            "bart_simpson:(dismayed) mm. i can't believe i had a baby, but i was gonna live in a movie?\n",
            "lisa_simpson:(to self) oh, yeah. that's a great big offer...\n",
            "homer_simpson:(singing)\" brandy, is a turn.\n",
            "homer_simpson: woo hoo!\n",
            "marge_simpson:(kissing noises)\n",
            "homer_simpson:(annoyed grunt)\n",
            "homer_simpson:(annoyed grunt)\n",
            "homer_simpson:(pained noises)\n",
            "homer_simpson:(chuckles) good one, dad.\n",
            "homer_simpson:(wiping away a glass) i don't want to hear that.\n",
            "bart_simpson:(slightly annoyed) i don't know.\n",
            "marge_simpson:(worried)\n"
          ],
          "name": "stdout"
        }
      ]
    },
    {
      "cell_type": "markdown",
      "metadata": {
        "id": "rWrQcrTst1Zn"
      },
      "source": [
        "# The TV Script is Nonsensical\n",
        "It's ok if the TV script doesn't make any sense.  We trained on less than a megabyte of text.  In order to get good results, you'll have to use a smaller vocabulary or get more data.  Luckily there's more data!  As we mentioned in the beggining of this project, this is a subset of [another dataset](https://www.kaggle.com/wcukierski/the-simpsons-by-the-data).  We didn't have you train on all the data, because that would take too long.  However, you are free to train your neural network on all the data.  After you complete the project, of course.\n",
        "# Submitting This Project\n",
        "When submitting this project, make sure to run all the cells before saving the notebook. Save the notebook file as \"dlnd_tv_script_generation.ipynb\" and save it as a HTML file under \"File\" -> \"Download as\". Include the \"helper.py\" and \"problem_unittests.py\" files in your submission."
      ]
    }
  ]
}